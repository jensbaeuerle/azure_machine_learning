{
  "cells": [
    {
      "cell_type": "code",
      "source": [
        "from azureml.opendatasets import Diabetes\r\n",
        "\r\n",
        "diabetes = Diabetes.get_tabular_dataset()\r\n",
        "X = diabetes.drop_columns(\"Y\")\r\n",
        "y = diabetes.keep_columns(\"Y\")\r\n",
        "X_df = X.to_pandas_dataframe()\r\n",
        "y_df = y.to_pandas_dataframe()\r\n",
        "X_df.info()"
      ],
      "outputs": [
        {
          "output_type": "stream",
          "name": "stdout",
          "text": "<class 'pandas.core.frame.DataFrame'>\nRangeIndex: 442 entries, 0 to 441\nData columns (total 10 columns):\nAGE    442 non-null int64\nSEX    442 non-null int64\nBMI    442 non-null float64\nBP     442 non-null float64\nS1     442 non-null int64\nS2     442 non-null float64\nS3     442 non-null float64\nS4     442 non-null float64\nS5     442 non-null float64\nS6     442 non-null int64\ndtypes: float64(6), int64(4)\nmemory usage: 34.7 KB\n"
        }
      ],
      "execution_count": 60,
      "metadata": {
        "gather": {
          "logged": 1638879755925
        }
      }
    },
    {
      "cell_type": "code",
      "source": [
        "import joblib\r\n",
        "from sklearn.linear_model import Ridge\r\n",
        "\r\n",
        "model = Ridge().fit(X_df,y_df)\r\n",
        "joblib.dump(model, 'sklearn_regression_model.pkl')"
      ],
      "outputs": [
        {
          "output_type": "execute_result",
          "execution_count": 61,
          "data": {
            "text/plain": "['sklearn_regression_model.pkl']"
          },
          "metadata": {}
        }
      ],
      "execution_count": 61,
      "metadata": {
        "jupyter": {
          "source_hidden": false,
          "outputs_hidden": false
        },
        "nteract": {
          "transient": {
            "deleting": false
          }
        },
        "gather": {
          "logged": 1638879759856
        }
      }
    },
    {
      "cell_type": "code",
      "source": [
        "import sklearn\r\n",
        "\r\n",
        "from azureml.core import Workspace\r\n",
        "from azureml.core import Model\r\n",
        "from azureml.core.resource_configuration import ResourceConfiguration\r\n",
        "\r\n",
        "ws = Workspace.from_config()\r\n",
        "\r\n",
        "model = Model.register(workspace=ws,\r\n",
        "                       model_name='my-sklearn-model',                # Name of the registered model in your workspace.\r\n",
        "                       model_path='./sklearn_regression_model.pkl',  # Local file to upload and register as a model.\r\n",
        "                       model_framework=Model.Framework.SCIKITLEARN,  # Framework used to create the model.\r\n",
        "                       model_framework_version=sklearn.__version__,  # Version of scikit-learn used to create the model.\r\n",
        "                       sample_input_dataset=X,\r\n",
        "                       sample_output_dataset=y,\r\n",
        "                       resource_configuration=ResourceConfiguration(cpu=2, memory_in_gb=4),\r\n",
        "                       description='Ridge regression model to predict diabetes progression.',\r\n",
        "                       tags={'area': 'diabetes', 'type': 'regression'})\r\n",
        "\r\n",
        "print('Name:', model.name)\r\n",
        "print('Version:', model.version)"
      ],
      "outputs": [
        {
          "output_type": "stream",
          "name": "stdout",
          "text": "Registering model my-sklearn-model\nName: my-sklearn-model\nVersion: 2\n"
        }
      ],
      "execution_count": 62,
      "metadata": {
        "jupyter": {
          "source_hidden": false,
          "outputs_hidden": false
        },
        "nteract": {
          "transient": {
            "deleting": false
          }
        },
        "gather": {
          "logged": 1638879809972
        }
      }
    },
    {
      "cell_type": "code",
      "source": [
        "%%writefile score.py\r\n",
        "\r\n",
        "import json\r\n",
        "import pickle\r\n",
        "import numpy as np\r\n",
        "import pandas as pd\r\n",
        "import os\r\n",
        "import joblib\r\n",
        "from azureml.core.model import Model\r\n",
        "\r\n",
        "from inference_schema.schema_decorators import input_schema, output_schema\r\n",
        "from inference_schema.parameter_types.numpy_parameter_type import NumpyParameterType\r\n",
        "from inference_schema.parameter_types.pandas_parameter_type import PandasParameterType\r\n",
        "\r\n",
        "\r\n",
        "def init():\r\n",
        "    global model\r\n",
        "    # Replace filename if needed.\r\n",
        "    path = os.getenv('AZUREML_MODEL_DIR') \r\n",
        "    model_path = os.path.join(path, 'sklearn_regression_model.pkl')\r\n",
        "    # Deserialize the model file back into a sklearn model.\r\n",
        "    model = joblib.load(model_path)\r\n",
        "\r\n",
        "\r\n",
        "input_sample = pd.DataFrame(data=[{\r\n",
        "    \"AGE\": 5,\r\n",
        "    \"SEX\": 2,\r\n",
        "    \"BMI\": 3.1,\r\n",
        "    \"BP\": 3.1,\r\n",
        "    \"S1\": 3.1,\r\n",
        "    \"S2\": 3.1,\r\n",
        "    \"S3\": 3.1,\r\n",
        "    \"S4\": 3.1,\r\n",
        "    \"S5\": 3.1,\r\n",
        "    \"S6\": 3.1\r\n",
        "}])\r\n",
        "\r\n",
        "# This is an integer type sample. Use the data type that reflects the expected result.\r\n",
        "output_sample = np.array([0])\r\n",
        "\r\n",
        "# To indicate that we support a variable length of data input,\r\n",
        "# set enforce_shape=False\r\n",
        "@input_schema('data', PandasParameterType(input_sample))\r\n",
        "@output_schema(NumpyParameterType(output_sample))\r\n",
        "def run(data):\r\n",
        "    try:\r\n",
        "        print(\"input_data....\")\r\n",
        "        print(data.columns)\r\n",
        "        print(type(data))\r\n",
        "        result = model.predict(data)\r\n",
        "        print(\"result.....\")\r\n",
        "        print(result)\r\n",
        "    # You can return any data type, as long as it can be serialized by JSON.\r\n",
        "        return result.tolist()\r\n",
        "    except Exception as e:\r\n",
        "        error = str(e)\r\n",
        "        return error"
      ],
      "outputs": [
        {
          "output_type": "stream",
          "name": "stdout",
          "text": "Overwriting score.py\n"
        }
      ],
      "execution_count": 63,
      "metadata": {
        "jupyter": {
          "source_hidden": false,
          "outputs_hidden": false
        },
        "nteract": {
          "transient": {
            "deleting": false
          }
        }
      }
    },
    {
      "cell_type": "code",
      "source": [],
      "outputs": [],
      "execution_count": null,
      "metadata": {
        "jupyter": {
          "source_hidden": false,
          "outputs_hidden": false
        },
        "nteract": {
          "transient": {
            "deleting": false
          }
        }
      }
    }
  ],
  "metadata": {
    "kernelspec": {
      "display_name": "Python 3.6 - AzureML",
      "language": "python",
      "name": "python3-azureml"
    },
    "language_info": {
      "codemirror_mode": {
        "name": "ipython",
        "version": 3
      },
      "file_extension": ".py",
      "mimetype": "text/x-python",
      "name": "python",
      "nbconvert_exporter": "python",
      "pygments_lexer": "ipython3",
      "version": "3.6.8"
    },
    "nteract": {
      "version": "nteract-front-end@1.0.0"
    }
  },
  "nbformat": 4,
  "nbformat_minor": 0
}