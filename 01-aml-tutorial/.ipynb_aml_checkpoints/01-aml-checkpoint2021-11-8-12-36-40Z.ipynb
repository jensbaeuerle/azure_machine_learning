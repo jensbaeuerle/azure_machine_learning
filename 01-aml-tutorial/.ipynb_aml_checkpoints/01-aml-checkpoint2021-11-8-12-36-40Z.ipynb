{
  "cells": [
    {
      "cell_type": "code",
      "source": [
        "from azureml.core import Workspace\r\n",
        "ws = Workspace.from_config()"
      ],
      "outputs": [],
      "execution_count": 27,
      "metadata": {
        "jupyter": {
          "source_hidden": false,
          "outputs_hidden": false
        },
        "nteract": {
          "transient": {
            "deleting": false
          }
        },
        "gather": {
          "logged": 1638966744252
        }
      }
    },
    {
      "cell_type": "code",
      "source": [
        "from azureml.core import Experiment\r\n",
        "experiment = Experiment(workspace=ws, name=\"diabetes_classification\")"
      ],
      "outputs": [],
      "execution_count": 28,
      "metadata": {
        "jupyter": {
          "source_hidden": false,
          "outputs_hidden": false
        },
        "nteract": {
          "transient": {
            "deleting": false
          }
        },
        "gather": {
          "logged": 1638966745212
        }
      }
    },
    {
      "cell_type": "code",
      "source": [
        "# azureml-core of version 1.0.72 or higher is required\r\n",
        "# azureml-dataprep[pandas] of version 1.1.34 or higher is required\r\n",
        "from azureml.core import Dataset\r\n",
        "\r\n",
        "dataset = Dataset.get_by_name(ws, name='diabetes_classification')\r\n",
        "df = dataset.to_pandas_dataframe()"
      ],
      "outputs": [],
      "execution_count": 29,
      "metadata": {
        "jupyter": {
          "source_hidden": false,
          "outputs_hidden": false
        },
        "nteract": {
          "transient": {
            "deleting": false
          }
        },
        "gather": {
          "logged": 1638966746853
        }
      }
    },
    {
      "cell_type": "code",
      "source": [
        "df.isna().sum()"
      ],
      "outputs": [
        {
          "output_type": "execute_result",
          "execution_count": 30,
          "data": {
            "text/plain": "p_id                     0\nno_times_pregnant        0\nglucose_concentration    0\nblood_pressure           0\nskin_fold_thickness      0\nserum_insulin            0\nbmi                      0\ndiabetes pedigree        0\nage                      0\ndiabetes                 0\ndtype: int64"
          },
          "metadata": {}
        }
      ],
      "execution_count": 30,
      "metadata": {
        "jupyter": {
          "source_hidden": false,
          "outputs_hidden": false
        },
        "nteract": {
          "transient": {
            "deleting": false
          }
        },
        "gather": {
          "logged": 1638966748460
        }
      }
    },
    {
      "cell_type": "code",
      "source": [
        "X = df.iloc[: , :-1]\r\n",
        "y = df.iloc[: , -1]"
      ],
      "outputs": [],
      "execution_count": 31,
      "metadata": {
        "jupyter": {
          "source_hidden": false,
          "outputs_hidden": false
        },
        "nteract": {
          "transient": {
            "deleting": false
          }
        },
        "gather": {
          "logged": 1638966751782
        }
      }
    },
    {
      "cell_type": "code",
      "source": [
        "from sklearn.model_selection import train_test_split\r\n",
        "\r\n",
        "X_train, X_test, y_train, y_test = train_test_split(X, y, test_size=0.2, random_state=66)"
      ],
      "outputs": [],
      "execution_count": 32,
      "metadata": {
        "jupyter": {
          "source_hidden": false,
          "outputs_hidden": false
        },
        "nteract": {
          "transient": {
            "deleting": false
          }
        },
        "gather": {
          "logged": 1638966753747
        }
      }
    },
    {
      "cell_type": "code",
      "source": [
        "from sklearn.linear_model import LogisticRegression\r\n",
        "from sklearn.metrics import classification_report, confusion_matrix\r\n",
        "\r\n",
        "lr=LogisticRegression()\r\n",
        "lr.fit(X_train, y_train)"
      ],
      "outputs": [
        {
          "output_type": "stream",
          "name": "stderr",
          "text": "/anaconda/envs/azureml_py36/lib/python3.6/site-packages/sklearn/linear_model/_logistic.py:940: ConvergenceWarning: lbfgs failed to converge (status=1):\nSTOP: TOTAL NO. of ITERATIONS REACHED LIMIT.\n\nIncrease the number of iterations (max_iter) or scale the data as shown in:\n    https://scikit-learn.org/stable/modules/preprocessing.html\nPlease also refer to the documentation for alternative solver options:\n    https://scikit-learn.org/stable/modules/linear_model.html#logistic-regression\n  extra_warning_msg=_LOGISTIC_SOLVER_CONVERGENCE_MSG)\n"
        },
        {
          "output_type": "execute_result",
          "execution_count": 33,
          "data": {
            "text/plain": "LogisticRegression(C=1.0, class_weight=None, dual=False, fit_intercept=True,\n                   intercept_scaling=1, l1_ratio=None, max_iter=100,\n                   multi_class='auto', n_jobs=None, penalty='l2',\n                   random_state=None, solver='lbfgs', tol=0.0001, verbose=0,\n                   warm_start=False)"
          },
          "metadata": {}
        }
      ],
      "execution_count": 33,
      "metadata": {
        "jupyter": {
          "source_hidden": false,
          "outputs_hidden": false
        },
        "nteract": {
          "transient": {
            "deleting": false
          }
        },
        "gather": {
          "logged": 1638966755571
        }
      }
    },
    {
      "cell_type": "code",
      "source": [
        "y_pred=lr.predict(X_train)"
      ],
      "outputs": [],
      "execution_count": 34,
      "metadata": {
        "jupyter": {
          "source_hidden": false,
          "outputs_hidden": false
        },
        "nteract": {
          "transient": {
            "deleting": false
          }
        },
        "gather": {
          "logged": 1638966812254
        }
      }
    },
    {
      "cell_type": "code",
      "source": [
        "from sklearn import metrics\r\n",
        "print(\"Accuracy Score:-\", metrics.accuracy_score(y_train, y_pred))\r\n",
        "print(\"F1 Score:-\", metrics.f1_score(y_train, y_pred))\r\n",
        "print(\"Average Precision Score:-\", metrics.average_precision_score(y_train, y_pred))\r\n",
        "print(\"Log Loss:-\", metrics.log_loss(y_train, y_pred))\r\n",
        "print(\"Precision Score:-\", metrics.precision_score(y_train, y_pred))\r\n",
        "print(\"Recall Score:-\", metrics.recall_score(y_train, y_pred))\r\n",
        "print(\"ROC-AUC Score:-\", metrics.roc_auc_score(y_train, y_pred))"
      ],
      "outputs": [
        {
          "output_type": "stream",
          "name": "stdout",
          "text": "Accuracy Score:- 0.7087576374745418\nF1 Score:- 0.4837545126353791\nAverage Precision Score:- 0.44803180160693246\nLog Loss:- 10.059224861836508\nPrecision Score:- 0.6090909090909091\nRecall Score:- 0.40119760479041916\nROC-AUC Score:- 0.6342407777038515\n"
        }
      ],
      "execution_count": 35,
      "metadata": {
        "jupyter": {
          "source_hidden": false,
          "outputs_hidden": false
        },
        "nteract": {
          "transient": {
            "deleting": false
          }
        },
        "gather": {
          "logged": 1638966835320
        }
      }
    },
    {
      "cell_type": "code",
      "source": [
        "import joblibmodel_file_name = 'diabetes_logistic_regression.pkl'\r\n",
        "\r\n",
        "# save model in the outputs folder so it automatically get uploaded\r\n",
        "with open(model_file_name, \"wb\") as file:\r\n",
        "    joblib.dump(value=reg, filename=os.path.join('./outputs/',\r\n",
        "                                                    model_file_name))"
      ],
      "outputs": [],
      "execution_count": null,
      "metadata": {
        "jupyter": {
          "source_hidden": false,
          "outputs_hidden": false
        },
        "nteract": {
          "transient": {
            "deleting": false
          }
        }
      }
    },
    {
      "cell_type": "code",
      "source": [
        "from sklearn.datasets import load_diabetes\r\n",
        "from sklearn.linear_model import Ridge\r\n",
        "from sklearn.metrics import mean_squared_error\r\n",
        "from sklearn.model_selection import train_test_split\r\n",
        "from azureml.core.run import Run\r\n",
        "import os\r\n",
        "import numpy as np\r\n",
        "from sklearn import __version__ as sklearnver\r\n",
        "from packaging.version import Version\r\n",
        "if Version(sklearnver) < Version(\"0.23.0\"):\r\n",
        "    from sklearn.externals import joblib\r\n",
        "else:\r\n",
        "    import joblib\r\n",
        "\r\n",
        "os.makedirs('./outputs', exist_ok=True)\r\n",
        "\r\n",
        "X, y = load_diabetes(return_X_y=True)\r\n",
        "\r\n",
        "run = Run.get_context()\r\n",
        "\r\n",
        "X_train, X_test, y_train, y_test = train_test_split(X, y,\r\n",
        "                                                    test_size=0.2,\r\n",
        "                                                    random_state=0)\r\n",
        "data = {\"train\": {\"X\": X_train, \"y\": y_train},\r\n",
        "        \"test\": {\"X\": X_test, \"y\": y_test}}\r\n",
        "\r\n",
        "# list of numbers from 0.0 to 1.0 with a 0.05 interval\r\n",
        "alphas = np.arange(0.0, 1.0, 0.05)\r\n",
        "\r\n",
        "for alpha in alphas:\r\n",
        "    # Use Ridge algorithm to create a regression model\r\n",
        "    reg = Ridge(alpha=alpha)\r\n",
        "    reg.fit(data[\"train\"][\"X\"], data[\"train\"][\"y\"])\r\n",
        "\r\n",
        "    preds = reg.predict(data[\"test\"][\"X\"])\r\n",
        "    mse = mean_squared_error(preds, data[\"test\"][\"y\"])\r\n",
        "    run.log('alpha', alpha)\r\n",
        "    run.log('mse', mse)\r\n",
        "\r\n",
        "    model_file_name = 'ridge_{0:.2f}.pkl'.format(alpha)\r\n",
        "    # save model in the outputs folder so it automatically get uploaded\r\n",
        "    with open(model_file_name, \"wb\") as file:\r\n",
        "        joblib.dump(value=reg, filename=os.path.join('./outputs/',\r\n",
        "                                                     model_file_name))\r\n",
        "\r\n",
        "    print('alpha is {0:.2f}, and mse is {1:0.2f}'.format(alpha, mse))\r\n"
      ],
      "outputs": [
        {
          "output_type": "stream",
          "name": "stderr",
          "text": "/anaconda/envs/azureml_py36/lib/python3.6/site-packages/sklearn/externals/joblib/__init__.py:15: FutureWarning: sklearn.externals.joblib is deprecated in 0.21 and will be removed in 0.23. Please import this functionality directly from joblib, which can be installed with: pip install joblib. If this warning is raised when loading pickled models, you may need to re-serialize those models with scikit-learn 0.21+.\n  warnings.warn(msg, category=FutureWarning)\n"
        },
        {
          "output_type": "stream",
          "name": "stdout",
          "text": "Attempted to log scalar metric alpha:\n0.0\nAttempted to log scalar metric mse:\n3424.3166882137343\nalpha is 0.00, and mse is 3424.32\nAttempted to log scalar metric alpha:\n0.05\nAttempted to log scalar metric mse:\n3408.9153122589296\nalpha is 0.05, and mse is 3408.92\nAttempted to log scalar metric alpha:\n0.1\nAttempted to log scalar metric mse:\n3372.649627810032\nalpha is 0.10, and mse is 3372.65\nAttempted to log scalar metric alpha:\n0.15000000000000002\nAttempted to log scalar metric mse:\n3345.1496434741894\nalpha is 0.15, and mse is 3345.15\nAttempted to log scalar metric alpha:\n0.2\nAttempted to log scalar metric mse:\n3325.2946794678764\nalpha is 0.20, and mse is 3325.29\nAttempted to log scalar metric alpha:\n0.25\nAttempted to log scalar metric mse:\n3311.5562509289744\nalpha is 0.25, and mse is 3311.56\nAttempted to log scalar metric alpha:\n0.30000000000000004\nAttempted to log scalar metric mse:\n3302.6736334017255\nalpha is 0.30, and mse is 3302.67\nAttempted to log scalar metric alpha:\n0.35000000000000003\nAttempted to log scalar metric mse:\n3297.658733944204\nalpha is 0.35, and mse is 3297.66\nAttempted to log scalar metric alpha:\n0.4\nAttempted to log scalar metric mse:\n3295.741064355809\nalpha is 0.40, and mse is 3295.74\nAttempted to log scalar metric alpha:\n0.45\nAttempted to log scalar metric mse:\n3296.316884705675\nalpha is 0.45, and mse is 3296.32\nAttempted to log scalar metric alpha:\n0.5\nAttempted to log scalar metric mse:\n3298.9096058070622\nalpha is 0.50, and mse is 3298.91\nAttempted to log scalar metric alpha:\n0.55\nAttempted to log scalar metric mse:\n3303.1400555275163\nalpha is 0.55, and mse is 3303.14\nAttempted to log scalar metric alpha:\n0.6000000000000001\nAttempted to log scalar metric mse:\n3308.7042707723226\nalpha is 0.60, and mse is 3308.70\nAttempted to log scalar metric alpha:\n0.65\nAttempted to log scalar metric mse:\n3315.3568399622563\nalpha is 0.65, and mse is 3315.36\nAttempted to log scalar metric alpha:\n0.7000000000000001\nAttempted to log scalar metric mse:\n3322.8983149039614\nalpha is 0.70, and mse is 3322.90\nAttempted to log scalar metric alpha:\n0.75\nAttempted to log scalar metric mse:\n3331.1656169285875\nalpha is 0.75, and mse is 3331.17\nAttempted to log scalar metric alpha:\n0.8\nAttempted to log scalar metric mse:\n3340.0246620321604\nalpha is 0.80, and mse is 3340.02\nAttempted to log scalar metric alpha:\n0.8500000000000001\nAttempted to log scalar metric mse:\n3349.3646443486023\nalpha is 0.85, and mse is 3349.36\nAttempted to log scalar metric alpha:\n0.9\nAttempted to log scalar metric mse:\n3359.0935697484424\nalpha is 0.90, and mse is 3359.09\nAttempted to log scalar metric alpha:\n0.9500000000000001\nAttempted to log scalar metric mse:\n3369.1347399130477\nalpha is 0.95, and mse is 3369.13\n"
        }
      ],
      "execution_count": 1,
      "metadata": {
        "gather": {
          "logged": 1638898826953
        }
      }
    },
    {
      "cell_type": "code",
      "source": [
        "from azureml.core import Workspace\r\n",
        "ws = Workspace.from_config()"
      ],
      "outputs": [],
      "execution_count": 2,
      "metadata": {
        "jupyter": {
          "source_hidden": false,
          "outputs_hidden": false
        },
        "nteract": {
          "transient": {
            "deleting": false
          }
        },
        "gather": {
          "logged": 1638898832379
        }
      }
    },
    {
      "cell_type": "code",
      "source": [
        "from azureml.core.model import Model\r\n",
        "\r\n",
        "# Register model\r\n",
        "model = Model.register(ws, model_name=\"sklearn-diabetes\", model_path=\"./outputs/ridge_0.30.pkl\")"
      ],
      "outputs": [
        {
          "output_type": "stream",
          "name": "stdout",
          "text": "Registering model sklearn-diabetes\n"
        }
      ],
      "execution_count": 3,
      "metadata": {
        "jupyter": {
          "source_hidden": false,
          "outputs_hidden": false
        },
        "nteract": {
          "transient": {
            "deleting": false
          }
        },
        "gather": {
          "logged": 1638898837602
        }
      }
    },
    {
      "cell_type": "code",
      "source": [
        "%%writefile score.py\r\n",
        "import json\r\n",
        "import os\r\n",
        "import joblib\r\n",
        "\r\n",
        "from inference_schema.schema_decorators import input_schema, output_schema\r\n",
        "from inference_schema.parameter_types.numpy_parameter_type import NumpyParameterType\r\n",
        "\r\n",
        "def init():\r\n",
        "    print(\"This is init\")\r\n",
        "    global model\r\n",
        "\r\n",
        "    # The AZUREML_MODEL_DIR environment variable indicates\r\n",
        "    # a directory containing the model file you registered.\r\n",
        "    model_filename = 'ridge_0.30.pkl'\r\n",
        "    model_path = os.path.join(os.environ['AZUREML_MODEL_DIR'], model_filename)\r\n",
        "\r\n",
        "    model = joblib.load(model_path)\r\n",
        "\r\n",
        "\r\n",
        "\r\n",
        "@input_schema('data', NumpyParameterType(np.array([[0.1, 1.2, 2.3, 3.4, 4.5, 5.6, 6.7, 7.8, 8.9, 9.0]])))\r\n",
        "@output_schema(NumpyParameterType(np.array([4429.929236457418])))\r\n",
        "def run(data):\r\n",
        "    # Use the model object loaded by init().\r\n",
        "    result = model.predict(data)\r\n",
        "\r\n",
        "    # You can return any JSON-serializable object.\r\n",
        "    return result.tolist()"
      ],
      "outputs": [
        {
          "output_type": "stream",
          "name": "stdout",
          "text": "Overwriting score.py\n"
        }
      ],
      "execution_count": 4,
      "metadata": {
        "jupyter": {
          "source_hidden": false,
          "outputs_hidden": false
        },
        "nteract": {
          "transient": {
            "deleting": false
          }
        }
      }
    },
    {
      "cell_type": "code",
      "source": [
        "def run(data):\r\n",
        "    model = joblib.load(\"outputs/ridge_0.30.pkl\")\r\n",
        "    # test = json.loads(data)\r\n",
        "    result = model.predict(data)\r\n",
        "    return result.tolist()"
      ],
      "outputs": [],
      "execution_count": 142,
      "metadata": {
        "jupyter": {
          "source_hidden": false,
          "outputs_hidden": false
        },
        "nteract": {
          "transient": {
            "deleting": false
          }
        },
        "gather": {
          "logged": 1638897620563
        }
      }
    },
    {
      "cell_type": "code",
      "source": [
        "run([[ 0.01991321,  0.05068012,  0.10480869,  0.07007254, -0.03596778,-0.0266789 , -0.02499266, -0.00259226,  0.00371174,  0.04034337]])"
      ],
      "outputs": [
        {
          "output_type": "execute_result",
          "execution_count": 146,
          "data": {
            "text/plain": "[221.45692200623236]"
          },
          "metadata": {}
        }
      ],
      "execution_count": 146,
      "metadata": {
        "jupyter": {
          "source_hidden": false,
          "outputs_hidden": false
        },
        "nteract": {
          "transient": {
            "deleting": false
          }
        },
        "gather": {
          "logged": 1638897768133
        }
      }
    },
    {
      "cell_type": "code",
      "source": [
        "data[\"test\"][\"X\"][0]"
      ],
      "outputs": [
        {
          "output_type": "execute_result",
          "execution_count": 130,
          "data": {
            "text/plain": "array([ 0.01991321,  0.05068012,  0.10480869,  0.07007254, -0.03596778,\n       -0.0266789 , -0.02499266, -0.00259226,  0.00371174,  0.04034337])"
          },
          "metadata": {}
        }
      ],
      "execution_count": 130,
      "metadata": {
        "jupyter": {
          "source_hidden": false,
          "outputs_hidden": false
        },
        "nteract": {
          "transient": {
            "deleting": false
          }
        },
        "gather": {
          "logged": 1638893561480
        }
      }
    },
    {
      "cell_type": "code",
      "source": [
        "import joblib\r\n",
        "\r\n",
        "[data[\"test\"][\"X\"][0:5]]"
      ],
      "outputs": [
        {
          "output_type": "execute_result",
          "execution_count": 124,
          "data": {
            "text/plain": "[array([[ 0.01991321,  0.05068012,  0.10480869,  0.07007254, -0.03596778,\n         -0.0266789 , -0.02499266, -0.00259226,  0.00371174,  0.04034337],\n        [-0.01277963, -0.04464164,  0.06061839,  0.05285819,  0.04796534,\n          0.02937467, -0.01762938,  0.03430886,  0.0702113 ,  0.00720652],\n        [ 0.03807591,  0.05068012,  0.00888341,  0.04252958, -0.04284755,\n         -0.02104223, -0.03971921, -0.00259226, -0.01811827,  0.00720652],\n        [-0.01277963, -0.04464164, -0.02345095, -0.04009932, -0.01670444,\n          0.00463594, -0.01762938, -0.00259226, -0.03845911, -0.03835666],\n        [-0.02367725, -0.04464164,  0.04552903,  0.09072977, -0.01808039,\n         -0.03544706,  0.07072993, -0.03949338, -0.03452372, -0.00936191]])]"
          },
          "metadata": {}
        }
      ],
      "execution_count": 124,
      "metadata": {
        "jupyter": {
          "source_hidden": false,
          "outputs_hidden": false
        },
        "nteract": {
          "transient": {
            "deleting": false
          }
        },
        "gather": {
          "logged": 1638891144094
        }
      }
    },
    {
      "cell_type": "code",
      "source": [
        "from azureml.core import Environment\r\n",
        "from azureml.core.model import InferenceConfig\r\n",
        "\r\n",
        "env = Environment(name=\"AzureML-sklearn-0.24.1-ubuntu18.04-py37-cpu-inference\")\r\n",
        "inference_config = InferenceConfig(\r\n",
        "    environment=env,\r\n",
        "    entry_script=\"score.py\",\r\n",
        ")"
      ],
      "outputs": [],
      "execution_count": 5,
      "metadata": {
        "jupyter": {
          "source_hidden": false,
          "outputs_hidden": false
        },
        "nteract": {
          "transient": {
            "deleting": false
          }
        },
        "gather": {
          "logged": 1638898870503
        }
      }
    },
    {
      "cell_type": "code",
      "source": [
        "from azureml.core.webservice import AciWebservice\r\n",
        "\r\n",
        "deployment_config = AciWebservice.deploy_configuration(\r\n",
        "    cpu_cores=0.5, memory_gb=1, auth_enabled=True\r\n",
        ")"
      ],
      "outputs": [],
      "execution_count": 6,
      "metadata": {
        "jupyter": {
          "source_hidden": false,
          "outputs_hidden": false
        },
        "nteract": {
          "transient": {
            "deleting": false
          }
        },
        "gather": {
          "logged": 1638898872386
        }
      }
    },
    {
      "cell_type": "code",
      "source": [
        "service = Model.deploy(\r\n",
        "    ws,\r\n",
        "    \"sklearn-diabetes\",\r\n",
        "    [model],\r\n",
        "    inference_config,\r\n",
        "    deployment_config,\r\n",
        "    overwrite=True,\r\n",
        ")\r\n",
        "service.wait_for_deployment(show_output=True)"
      ],
      "outputs": [
        {
          "output_type": "stream",
          "name": "stdout",
          "text": "Tips: You can try get_logs(): https://aka.ms/debugimage#dockerlog or local deployment: https://aka.ms/debugimage#debug-locally to debug if deployment takes longer than 10 minutes.\nRunning\n2021-12-07 17:41:14+00:00 Creating Container Registry if not exists.\n2021-12-07 17:41:14+00:00 Registering the environment.\n2021-12-07 17:41:15+00:00 Use the existing image.\n2021-12-07 17:41:15+00:00 Generating deployment configuration.\n2021-12-07 17:41:16+00:00 Submitting deployment to compute.\n2021-12-07 17:41:19+00:00 Checking the status of deployment sklearn-diabetes..\n2021-12-07 17:51:43+00:00 Checking the status of inference endpoint sklearn-diabetes.\nFailed\n"
        },
        {
          "output_type": "stream",
          "name": "stderr",
          "text": "Service deployment polling reached non-successful terminal state, current service state: Failed\nOperation ID: 2f66ddd9-ad46-40d1-a9d9-8cb20fa29d78\nMore information can be found using '.get_logs()'\nError:\n{\n  \"code\": \"AciDeploymentFailed\",\n  \"statusCode\": 400,\n  \"message\": \"Aci Deployment failed with exception: Your container application crashed. This may be caused by errors in your scoring file's init() function.\n\t1. Please check the logs for your container instance: sklearn-diabetes. From the AML SDK, you can run print(service.get_logs()) if you have service object to fetch the logs.\n\t2. You can interactively debug your scoring file locally. Please refer to https://docs.microsoft.com/azure/machine-learning/how-to-debug-visual-studio-code#debug-and-troubleshoot-deployments for more information.\n\t3. You can also try to run image viennaglobal.azurecr.io/azureml/azureml_69581a78861b814a11058f72f478b9e0 locally. Please refer to https://aka.ms/debugimage#service-launch-fails for more information.\",\n  \"details\": [\n    {\n      \"code\": \"CrashLoopBackOff\",\n      \"message\": \"Your container application crashed. This may be caused by errors in your scoring file's init() function.\n\t1. Please check the logs for your container instance: sklearn-diabetes. From the AML SDK, you can run print(service.get_logs()) if you have service object to fetch the logs.\n\t2. You can interactively debug your scoring file locally. Please refer to https://docs.microsoft.com/azure/machine-learning/how-to-debug-visual-studio-code#debug-and-troubleshoot-deployments for more information.\n\t3. You can also try to run image viennaglobal.azurecr.io/azureml/azureml_69581a78861b814a11058f72f478b9e0 locally. Please refer to https://aka.ms/debugimage#service-launch-fails for more information.\"\n    },\n    {\n      \"code\": \"AciDeploymentFailed\",\n      \"message\": \"Your container application crashed. Please follow the steps to debug:\n\t1. From the AML SDK, you can run print(service.get_logs()) if you have service object to fetch the logs. Please refer to https://aka.ms/debugimage#dockerlog for more information.\n\t2. If your container application crashed. This may be caused by errors in your scoring file's init() function. You can try debugging locally first. Please refer to https://aka.ms/debugimage#debug-locally for more information.\n\t3. You can also interactively debug your scoring file locally. Please refer to https://docs.microsoft.com/azure/machine-learning/how-to-debug-visual-studio-code#debug-and-troubleshoot-deployments for more information.\n\t4. View the diagnostic events to check status of container, it may help you to debug the issue.\n\"RestartCount\": 3\n\"CurrentState\": {\"state\":\"Waiting\",\"startTime\":null,\"exitCode\":null,\"finishTime\":null,\"detailStatus\":\"CrashLoopBackOff: Back-off restarting failed\"}\n\"PreviousState\": {\"state\":\"Terminated\",\"startTime\":\"2021-12-07T17:52:34.814Z\",\"exitCode\":111,\"finishTime\":\"2021-12-07T17:52:43.131Z\",\"detailStatus\":\"Error\"}\n\"Events\":\n{\"count\":2,\"firstTimestamp\":\"2021-12-07T14:39:37Z\",\"lastTimestamp\":\"2021-12-07T17:29:43Z\",\"name\":\"Pulling\",\"message\":\"pulling image \"viennaglobal.azurecr.io/azureml/azureml_69581a78861b814a11058f72f478b9e0@sha256:0f323a58ca82f74cf8e2beb30f0b86fcd597f65994d1457f3748f58b4b3cbeb5\"\",\"type\":\"Normal\"}\n{\"count\":2,\"firstTimestamp\":\"2021-12-07T14:40:25Z\",\"lastTimestamp\":\"2021-12-07T17:31:59Z\",\"name\":\"Pulled\",\"message\":\"Successfully pulled image \"viennaglobal.azurecr.io/azureml/azureml_69581a78861b814a11058f72f478b9e0@sha256:0f323a58ca82f74cf8e2beb30f0b86fcd597f65994d1457f3748f58b4b3cbeb5\"\",\"type\":\"Normal\"}\n{\"count\":2,\"firstTimestamp\":\"2021-12-07T14:41:03Z\",\"lastTimestamp\":\"2021-12-07T17:33:38Z\",\"name\":\"Started\",\"message\":\"Started container\",\"type\":\"Normal\"}\n{\"count\":2,\"firstTimestamp\":\"2021-12-07T14:42:36Z\",\"lastTimestamp\":\"2021-12-07T17:34:14Z\",\"name\":\"Killing\",\"message\":\"Killing container with id 1a4473c0d07320552677d084080195d4f0a52cf5b9672bd475d5db023a09a44c.\",\"type\":\"Normal\"}\n{\"count\":2,\"firstTimestamp\":\"2021-12-07T14:59:52Z\",\"lastTimestamp\":\"2021-12-07T15:07:31Z\",\"name\":\"Pulling\",\"message\":\"pulling image \"viennaglobal.azurecr.io/azureml/azureml_69581a78861b814a11058f72f478b9e0@sha256:0f323a58ca82f74cf8e2beb30f0b86fcd597f65994d1457f3748f58b4b3cbeb5\"\",\"type\":\"Normal\"}\n{\"count\":2,\"firstTimestamp\":\"2021-12-07T15:07:20Z\",\"lastTimestamp\":\"2021-12-07T15:07:31Z\",\"name\":\"Pulled\",\"message\":\"Successfully pulled image \"viennaglobal.azurecr.io/azureml/azureml_69581a78861b814a11058f72f478b9e0@sha256:0f323a58ca82f74cf8e2beb30f0b86fcd597f65994d1457f3748f58b4b3cbeb5\"\",\"type\":\"Normal\"}\n{\"count\":1,\"firstTimestamp\":\"2021-12-07T15:10:36Z\",\"lastTimestamp\":\"2021-12-07T15:10:36Z\",\"name\":\"Started\",\"message\":\"Started container\",\"type\":\"Normal\"}\n{\"count\":1,\"firstTimestamp\":\"2021-12-07T15:14:26Z\",\"lastTimestamp\":\"2021-12-07T15:14:26Z\",\"name\":\"Killing\",\"message\":\"Killing container with id e7a699b66a728848cbe29b39ac7b3ffae47a859d435b0d6380962c178c576613.\",\"type\":\"Normal\"}\n\"\n    }\n  ]\n}\n\n"
        },
        {
          "output_type": "error",
          "ename": "WebserviceException",
          "evalue": "WebserviceException:\n\tMessage: Service deployment polling reached non-successful terminal state, current service state: Failed\nOperation ID: 2f66ddd9-ad46-40d1-a9d9-8cb20fa29d78\nMore information can be found using '.get_logs()'\nError:\n{\n  \"code\": \"AciDeploymentFailed\",\n  \"statusCode\": 400,\n  \"message\": \"Aci Deployment failed with exception: Your container application crashed. This may be caused by errors in your scoring file's init() function.\n\t1. Please check the logs for your container instance: sklearn-diabetes. From the AML SDK, you can run print(service.get_logs()) if you have service object to fetch the logs.\n\t2. You can interactively debug your scoring file locally. Please refer to https://docs.microsoft.com/azure/machine-learning/how-to-debug-visual-studio-code#debug-and-troubleshoot-deployments for more information.\n\t3. You can also try to run image viennaglobal.azurecr.io/azureml/azureml_69581a78861b814a11058f72f478b9e0 locally. Please refer to https://aka.ms/debugimage#service-launch-fails for more information.\",\n  \"details\": [\n    {\n      \"code\": \"CrashLoopBackOff\",\n      \"message\": \"Your container application crashed. This may be caused by errors in your scoring file's init() function.\n\t1. Please check the logs for your container instance: sklearn-diabetes. From the AML SDK, you can run print(service.get_logs()) if you have service object to fetch the logs.\n\t2. You can interactively debug your scoring file locally. Please refer to https://docs.microsoft.com/azure/machine-learning/how-to-debug-visual-studio-code#debug-and-troubleshoot-deployments for more information.\n\t3. You can also try to run image viennaglobal.azurecr.io/azureml/azureml_69581a78861b814a11058f72f478b9e0 locally. Please refer to https://aka.ms/debugimage#service-launch-fails for more information.\"\n    },\n    {\n      \"code\": \"AciDeploymentFailed\",\n      \"message\": \"Your container application crashed. Please follow the steps to debug:\n\t1. From the AML SDK, you can run print(service.get_logs()) if you have service object to fetch the logs. Please refer to https://aka.ms/debugimage#dockerlog for more information.\n\t2. If your container application crashed. This may be caused by errors in your scoring file's init() function. You can try debugging locally first. Please refer to https://aka.ms/debugimage#debug-locally for more information.\n\t3. You can also interactively debug your scoring file locally. Please refer to https://docs.microsoft.com/azure/machine-learning/how-to-debug-visual-studio-code#debug-and-troubleshoot-deployments for more information.\n\t4. View the diagnostic events to check status of container, it may help you to debug the issue.\n\"RestartCount\": 3\n\"CurrentState\": {\"state\":\"Waiting\",\"startTime\":null,\"exitCode\":null,\"finishTime\":null,\"detailStatus\":\"CrashLoopBackOff: Back-off restarting failed\"}\n\"PreviousState\": {\"state\":\"Terminated\",\"startTime\":\"2021-12-07T17:52:34.814Z\",\"exitCode\":111,\"finishTime\":\"2021-12-07T17:52:43.131Z\",\"detailStatus\":\"Error\"}\n\"Events\":\n{\"count\":2,\"firstTimestamp\":\"2021-12-07T14:39:37Z\",\"lastTimestamp\":\"2021-12-07T17:29:43Z\",\"name\":\"Pulling\",\"message\":\"pulling image \"viennaglobal.azurecr.io/azureml/azureml_69581a78861b814a11058f72f478b9e0@sha256:0f323a58ca82f74cf8e2beb30f0b86fcd597f65994d1457f3748f58b4b3cbeb5\"\",\"type\":\"Normal\"}\n{\"count\":2,\"firstTimestamp\":\"2021-12-07T14:40:25Z\",\"lastTimestamp\":\"2021-12-07T17:31:59Z\",\"name\":\"Pulled\",\"message\":\"Successfully pulled image \"viennaglobal.azurecr.io/azureml/azureml_69581a78861b814a11058f72f478b9e0@sha256:0f323a58ca82f74cf8e2beb30f0b86fcd597f65994d1457f3748f58b4b3cbeb5\"\",\"type\":\"Normal\"}\n{\"count\":2,\"firstTimestamp\":\"2021-12-07T14:41:03Z\",\"lastTimestamp\":\"2021-12-07T17:33:38Z\",\"name\":\"Started\",\"message\":\"Started container\",\"type\":\"Normal\"}\n{\"count\":2,\"firstTimestamp\":\"2021-12-07T14:42:36Z\",\"lastTimestamp\":\"2021-12-07T17:34:14Z\",\"name\":\"Killing\",\"message\":\"Killing container with id 1a4473c0d07320552677d084080195d4f0a52cf5b9672bd475d5db023a09a44c.\",\"type\":\"Normal\"}\n{\"count\":2,\"firstTimestamp\":\"2021-12-07T14:59:52Z\",\"lastTimestamp\":\"2021-12-07T15:07:31Z\",\"name\":\"Pulling\",\"message\":\"pulling image \"viennaglobal.azurecr.io/azureml/azureml_69581a78861b814a11058f72f478b9e0@sha256:0f323a58ca82f74cf8e2beb30f0b86fcd597f65994d1457f3748f58b4b3cbeb5\"\",\"type\":\"Normal\"}\n{\"count\":2,\"firstTimestamp\":\"2021-12-07T15:07:20Z\",\"lastTimestamp\":\"2021-12-07T15:07:31Z\",\"name\":\"Pulled\",\"message\":\"Successfully pulled image \"viennaglobal.azurecr.io/azureml/azureml_69581a78861b814a11058f72f478b9e0@sha256:0f323a58ca82f74cf8e2beb30f0b86fcd597f65994d1457f3748f58b4b3cbeb5\"\",\"type\":\"Normal\"}\n{\"count\":1,\"firstTimestamp\":\"2021-12-07T15:10:36Z\",\"lastTimestamp\":\"2021-12-07T15:10:36Z\",\"name\":\"Started\",\"message\":\"Started container\",\"type\":\"Normal\"}\n{\"count\":1,\"firstTimestamp\":\"2021-12-07T15:14:26Z\",\"lastTimestamp\":\"2021-12-07T15:14:26Z\",\"name\":\"Killing\",\"message\":\"Killing container with id e7a699b66a728848cbe29b39ac7b3ffae47a859d435b0d6380962c178c576613.\",\"type\":\"Normal\"}\n\"\n    }\n  ]\n}\n\tInnerException None\n\tErrorResponse \n{\n    \"error\": {\n        \"message\": \"Service deployment polling reached non-successful terminal state, current service state: Failed\\nOperation ID: 2f66ddd9-ad46-40d1-a9d9-8cb20fa29d78\\nMore information can be found using '.get_logs()'\\nError:\\n{\\n  \\\"code\\\": \\\"AciDeploymentFailed\\\",\\n  \\\"statusCode\\\": 400,\\n  \\\"message\\\": \\\"Aci Deployment failed with exception: Your container application crashed. This may be caused by errors in your scoring file's init() function.\\n\\t1. Please check the logs for your container instance: sklearn-diabetes. From the AML SDK, you can run print(service.get_logs()) if you have service object to fetch the logs.\\n\\t2. You can interactively debug your scoring file locally. Please refer to https://docs.microsoft.com/azure/machine-learning/how-to-debug-visual-studio-code#debug-and-troubleshoot-deployments for more information.\\n\\t3. You can also try to run image viennaglobal.azurecr.io/azureml/azureml_69581a78861b814a11058f72f478b9e0 locally. Please refer to https://aka.ms/debugimage#service-launch-fails for more information.\\\",\\n  \\\"details\\\": [\\n    {\\n      \\\"code\\\": \\\"CrashLoopBackOff\\\",\\n      \\\"message\\\": \\\"Your container application crashed. This may be caused by errors in your scoring file's init() function.\\n\\t1. Please check the logs for your container instance: sklearn-diabetes. From the AML SDK, you can run print(service.get_logs()) if you have service object to fetch the logs.\\n\\t2. You can interactively debug your scoring file locally. Please refer to https://docs.microsoft.com/azure/machine-learning/how-to-debug-visual-studio-code#debug-and-troubleshoot-deployments for more information.\\n\\t3. You can also try to run image viennaglobal.azurecr.io/azureml/azureml_69581a78861b814a11058f72f478b9e0 locally. Please refer to https://aka.ms/debugimage#service-launch-fails for more information.\\\"\\n    },\\n    {\\n      \\\"code\\\": \\\"AciDeploymentFailed\\\",\\n      \\\"message\\\": \\\"Your container application crashed. Please follow the steps to debug:\\n\\t1. From the AML SDK, you can run print(service.get_logs()) if you have service object to fetch the logs. Please refer to https://aka.ms/debugimage#dockerlog for more information.\\n\\t2. If your container application crashed. This may be caused by errors in your scoring file's init() function. You can try debugging locally first. Please refer to https://aka.ms/debugimage#debug-locally for more information.\\n\\t3. You can also interactively debug your scoring file locally. Please refer to https://docs.microsoft.com/azure/machine-learning/how-to-debug-visual-studio-code#debug-and-troubleshoot-deployments for more information.\\n\\t4. View the diagnostic events to check status of container, it may help you to debug the issue.\\n\\\"RestartCount\\\": 3\\n\\\"CurrentState\\\": {\\\"state\\\":\\\"Waiting\\\",\\\"startTime\\\":null,\\\"exitCode\\\":null,\\\"finishTime\\\":null,\\\"detailStatus\\\":\\\"CrashLoopBackOff: Back-off restarting failed\\\"}\\n\\\"PreviousState\\\": {\\\"state\\\":\\\"Terminated\\\",\\\"startTime\\\":\\\"2021-12-07T17:52:34.814Z\\\",\\\"exitCode\\\":111,\\\"finishTime\\\":\\\"2021-12-07T17:52:43.131Z\\\",\\\"detailStatus\\\":\\\"Error\\\"}\\n\\\"Events\\\":\\n{\\\"count\\\":2,\\\"firstTimestamp\\\":\\\"2021-12-07T14:39:37Z\\\",\\\"lastTimestamp\\\":\\\"2021-12-07T17:29:43Z\\\",\\\"name\\\":\\\"Pulling\\\",\\\"message\\\":\\\"pulling image \\\"viennaglobal.azurecr.io/azureml/azureml_69581a78861b814a11058f72f478b9e0@sha256:0f323a58ca82f74cf8e2beb30f0b86fcd597f65994d1457f3748f58b4b3cbeb5\\\"\\\",\\\"type\\\":\\\"Normal\\\"}\\n{\\\"count\\\":2,\\\"firstTimestamp\\\":\\\"2021-12-07T14:40:25Z\\\",\\\"lastTimestamp\\\":\\\"2021-12-07T17:31:59Z\\\",\\\"name\\\":\\\"Pulled\\\",\\\"message\\\":\\\"Successfully pulled image \\\"viennaglobal.azurecr.io/azureml/azureml_69581a78861b814a11058f72f478b9e0@sha256:0f323a58ca82f74cf8e2beb30f0b86fcd597f65994d1457f3748f58b4b3cbeb5\\\"\\\",\\\"type\\\":\\\"Normal\\\"}\\n{\\\"count\\\":2,\\\"firstTimestamp\\\":\\\"2021-12-07T14:41:03Z\\\",\\\"lastTimestamp\\\":\\\"2021-12-07T17:33:38Z\\\",\\\"name\\\":\\\"Started\\\",\\\"message\\\":\\\"Started container\\\",\\\"type\\\":\\\"Normal\\\"}\\n{\\\"count\\\":2,\\\"firstTimestamp\\\":\\\"2021-12-07T14:42:36Z\\\",\\\"lastTimestamp\\\":\\\"2021-12-07T17:34:14Z\\\",\\\"name\\\":\\\"Killing\\\",\\\"message\\\":\\\"Killing container with id 1a4473c0d07320552677d084080195d4f0a52cf5b9672bd475d5db023a09a44c.\\\",\\\"type\\\":\\\"Normal\\\"}\\n{\\\"count\\\":2,\\\"firstTimestamp\\\":\\\"2021-12-07T14:59:52Z\\\",\\\"lastTimestamp\\\":\\\"2021-12-07T15:07:31Z\\\",\\\"name\\\":\\\"Pulling\\\",\\\"message\\\":\\\"pulling image \\\"viennaglobal.azurecr.io/azureml/azureml_69581a78861b814a11058f72f478b9e0@sha256:0f323a58ca82f74cf8e2beb30f0b86fcd597f65994d1457f3748f58b4b3cbeb5\\\"\\\",\\\"type\\\":\\\"Normal\\\"}\\n{\\\"count\\\":2,\\\"firstTimestamp\\\":\\\"2021-12-07T15:07:20Z\\\",\\\"lastTimestamp\\\":\\\"2021-12-07T15:07:31Z\\\",\\\"name\\\":\\\"Pulled\\\",\\\"message\\\":\\\"Successfully pulled image \\\"viennaglobal.azurecr.io/azureml/azureml_69581a78861b814a11058f72f478b9e0@sha256:0f323a58ca82f74cf8e2beb30f0b86fcd597f65994d1457f3748f58b4b3cbeb5\\\"\\\",\\\"type\\\":\\\"Normal\\\"}\\n{\\\"count\\\":1,\\\"firstTimestamp\\\":\\\"2021-12-07T15:10:36Z\\\",\\\"lastTimestamp\\\":\\\"2021-12-07T15:10:36Z\\\",\\\"name\\\":\\\"Started\\\",\\\"message\\\":\\\"Started container\\\",\\\"type\\\":\\\"Normal\\\"}\\n{\\\"count\\\":1,\\\"firstTimestamp\\\":\\\"2021-12-07T15:14:26Z\\\",\\\"lastTimestamp\\\":\\\"2021-12-07T15:14:26Z\\\",\\\"name\\\":\\\"Killing\\\",\\\"message\\\":\\\"Killing container with id e7a699b66a728848cbe29b39ac7b3ffae47a859d435b0d6380962c178c576613.\\\",\\\"type\\\":\\\"Normal\\\"}\\n\\\"\\n    }\\n  ]\\n}\"\n    }\n}",
          "traceback": [
            "\u001b[0;31m---------------------------------------------------------------------------\u001b[0m",
            "\u001b[0;31mWebserviceException\u001b[0m                       Traceback (most recent call last)",
            "\u001b[0;32m<ipython-input-7-fc0f80435522>\u001b[0m in \u001b[0;36m<module>\u001b[0;34m\u001b[0m\n\u001b[1;32m      7\u001b[0m     \u001b[0moverwrite\u001b[0m\u001b[0;34m=\u001b[0m\u001b[0;32mTrue\u001b[0m\u001b[0;34m,\u001b[0m\u001b[0;34m\u001b[0m\u001b[0;34m\u001b[0m\u001b[0m\n\u001b[1;32m      8\u001b[0m )\n\u001b[0;32m----> 9\u001b[0;31m \u001b[0mservice\u001b[0m\u001b[0;34m.\u001b[0m\u001b[0mwait_for_deployment\u001b[0m\u001b[0;34m(\u001b[0m\u001b[0mshow_output\u001b[0m\u001b[0;34m=\u001b[0m\u001b[0;32mTrue\u001b[0m\u001b[0;34m)\u001b[0m\u001b[0;34m\u001b[0m\u001b[0;34m\u001b[0m\u001b[0m\n\u001b[0m",
            "\u001b[0;32m/anaconda/envs/azureml_py36/lib/python3.6/site-packages/azureml/core/webservice/webservice.py\u001b[0m in \u001b[0;36mwait_for_deployment\u001b[0;34m(self, show_output, timeout_sec)\u001b[0m\n\u001b[1;32m    921\u001b[0m                                           \u001b[0;34m'Error:\\n'\u001b[0m\u001b[0;34m\u001b[0m\u001b[0;34m\u001b[0m\u001b[0m\n\u001b[1;32m    922\u001b[0m                                           '{}'.format(self.state, self._operation_endpoint.split('/')[-1],\n\u001b[0;32m--> 923\u001b[0;31m                                                       logs_response, format_error_response), logger=module_logger)\n\u001b[0m\u001b[1;32m    924\u001b[0m             print('{} service creation operation finished, operation \"{}\"'.format(self._webservice_type,\n\u001b[1;32m    925\u001b[0m                                                                                   operation_state))\n",
            "\u001b[0;31mWebserviceException\u001b[0m: WebserviceException:\n\tMessage: Service deployment polling reached non-successful terminal state, current service state: Failed\nOperation ID: 2f66ddd9-ad46-40d1-a9d9-8cb20fa29d78\nMore information can be found using '.get_logs()'\nError:\n{\n  \"code\": \"AciDeploymentFailed\",\n  \"statusCode\": 400,\n  \"message\": \"Aci Deployment failed with exception: Your container application crashed. This may be caused by errors in your scoring file's init() function.\n\t1. Please check the logs for your container instance: sklearn-diabetes. From the AML SDK, you can run print(service.get_logs()) if you have service object to fetch the logs.\n\t2. You can interactively debug your scoring file locally. Please refer to https://docs.microsoft.com/azure/machine-learning/how-to-debug-visual-studio-code#debug-and-troubleshoot-deployments for more information.\n\t3. You can also try to run image viennaglobal.azurecr.io/azureml/azureml_69581a78861b814a11058f72f478b9e0 locally. Please refer to https://aka.ms/debugimage#service-launch-fails for more information.\",\n  \"details\": [\n    {\n      \"code\": \"CrashLoopBackOff\",\n      \"message\": \"Your container application crashed. This may be caused by errors in your scoring file's init() function.\n\t1. Please check the logs for your container instance: sklearn-diabetes. From the AML SDK, you can run print(service.get_logs()) if you have service object to fetch the logs.\n\t2. You can interactively debug your scoring file locally. Please refer to https://docs.microsoft.com/azure/machine-learning/how-to-debug-visual-studio-code#debug-and-troubleshoot-deployments for more information.\n\t3. You can also try to run image viennaglobal.azurecr.io/azureml/azureml_69581a78861b814a11058f72f478b9e0 locally. Please refer to https://aka.ms/debugimage#service-launch-fails for more information.\"\n    },\n    {\n      \"code\": \"AciDeploymentFailed\",\n      \"message\": \"Your container application crashed. Please follow the steps to debug:\n\t1. From the AML SDK, you can run print(service.get_logs()) if you have service object to fetch the logs. Please refer to https://aka.ms/debugimage#dockerlog for more information.\n\t2. If your container application crashed. This may be caused by errors in your scoring file's init() function. You can try debugging locally first. Please refer to https://aka.ms/debugimage#debug-locally for more information.\n\t3. You can also interactively debug your scoring file locally. Please refer to https://docs.microsoft.com/azure/machine-learning/how-to-debug-visual-studio-code#debug-and-troubleshoot-deployments for more information.\n\t4. View the diagnostic events to check status of container, it may help you to debug the issue.\n\"RestartCount\": 3\n\"CurrentState\": {\"state\":\"Waiting\",\"startTime\":null,\"exitCode\":null,\"finishTime\":null,\"detailStatus\":\"CrashLoopBackOff: Back-off restarting failed\"}\n\"PreviousState\": {\"state\":\"Terminated\",\"startTime\":\"2021-12-07T17:52:34.814Z\",\"exitCode\":111,\"finishTime\":\"2021-12-07T17:52:43.131Z\",\"detailStatus\":\"Error\"}\n\"Events\":\n{\"count\":2,\"firstTimestamp\":\"2021-12-07T14:39:37Z\",\"lastTimestamp\":\"2021-12-07T17:29:43Z\",\"name\":\"Pulling\",\"message\":\"pulling image \"viennaglobal.azurecr.io/azureml/azureml_69581a78861b814a11058f72f478b9e0@sha256:0f323a58ca82f74cf8e2beb30f0b86fcd597f65994d1457f3748f58b4b3cbeb5\"\",\"type\":\"Normal\"}\n{\"count\":2,\"firstTimestamp\":\"2021-12-07T14:40:25Z\",\"lastTimestamp\":\"2021-12-07T17:31:59Z\",\"name\":\"Pulled\",\"message\":\"Successfully pulled image \"viennaglobal.azurecr.io/azureml/azureml_69581a78861b814a11058f72f478b9e0@sha256:0f323a58ca82f74cf8e2beb30f0b86fcd597f65994d1457f3748f58b4b3cbeb5\"\",\"type\":\"Normal\"}\n{\"count\":2,\"firstTimestamp\":\"2021-12-07T14:41:03Z\",\"lastTimestamp\":\"2021-12-07T17:33:38Z\",\"name\":\"Started\",\"message\":\"Started container\",\"type\":\"Normal\"}\n{\"count\":2,\"firstTimestamp\":\"2021-12-07T14:42:36Z\",\"lastTimestamp\":\"2021-12-07T17:34:14Z\",\"name\":\"Killing\",\"message\":\"Killing container with id 1a4473c0d07320552677d084080195d4f0a52cf5b9672bd475d5db023a09a44c.\",\"type\":\"Normal\"}\n{\"count\":2,\"firstTimestamp\":\"2021-12-07T14:59:52Z\",\"lastTimestamp\":\"2021-12-07T15:07:31Z\",\"name\":\"Pulling\",\"message\":\"pulling image \"viennaglobal.azurecr.io/azureml/azureml_69581a78861b814a11058f72f478b9e0@sha256:0f323a58ca82f74cf8e2beb30f0b86fcd597f65994d1457f3748f58b4b3cbeb5\"\",\"type\":\"Normal\"}\n{\"count\":2,\"firstTimestamp\":\"2021-12-07T15:07:20Z\",\"lastTimestamp\":\"2021-12-07T15:07:31Z\",\"name\":\"Pulled\",\"message\":\"Successfully pulled image \"viennaglobal.azurecr.io/azureml/azureml_69581a78861b814a11058f72f478b9e0@sha256:0f323a58ca82f74cf8e2beb30f0b86fcd597f65994d1457f3748f58b4b3cbeb5\"\",\"type\":\"Normal\"}\n{\"count\":1,\"firstTimestamp\":\"2021-12-07T15:10:36Z\",\"lastTimestamp\":\"2021-12-07T15:10:36Z\",\"name\":\"Started\",\"message\":\"Started container\",\"type\":\"Normal\"}\n{\"count\":1,\"firstTimestamp\":\"2021-12-07T15:14:26Z\",\"lastTimestamp\":\"2021-12-07T15:14:26Z\",\"name\":\"Killing\",\"message\":\"Killing container with id e7a699b66a728848cbe29b39ac7b3ffae47a859d435b0d6380962c178c576613.\",\"type\":\"Normal\"}\n\"\n    }\n  ]\n}\n\tInnerException None\n\tErrorResponse \n{\n    \"error\": {\n        \"message\": \"Service deployment polling reached non-successful terminal state, current service state: Failed\\nOperation ID: 2f66ddd9-ad46-40d1-a9d9-8cb20fa29d78\\nMore information can be found using '.get_logs()'\\nError:\\n{\\n  \\\"code\\\": \\\"AciDeploymentFailed\\\",\\n  \\\"statusCode\\\": 400,\\n  \\\"message\\\": \\\"Aci Deployment failed with exception: Your container application crashed. This may be caused by errors in your scoring file's init() function.\\n\\t1. Please check the logs for your container instance: sklearn-diabetes. From the AML SDK, you can run print(service.get_logs()) if you have service object to fetch the logs.\\n\\t2. You can interactively debug your scoring file locally. Please refer to https://docs.microsoft.com/azure/machine-learning/how-to-debug-visual-studio-code#debug-and-troubleshoot-deployments for more information.\\n\\t3. You can also try to run image viennaglobal.azurecr.io/azureml/azureml_69581a78861b814a11058f72f478b9e0 locally. Please refer to https://aka.ms/debugimage#service-launch-fails for more information.\\\",\\n  \\\"details\\\": [\\n    {\\n      \\\"code\\\": \\\"CrashLoopBackOff\\\",\\n      \\\"message\\\": \\\"Your container application crashed. This may be caused by errors in your scoring file's init() function.\\n\\t1. Please check the logs for your container instance: sklearn-diabetes. From the AML SDK, you can run print(service.get_logs()) if you have service object to fetch the logs.\\n\\t2. You can interactively debug your scoring file locally. Please refer to https://docs.microsoft.com/azure/machine-learning/how-to-debug-visual-studio-code#debug-and-troubleshoot-deployments for more information.\\n\\t3. You can also try to run image viennaglobal.azurecr.io/azureml/azureml_69581a78861b814a11058f72f478b9e0 locally. Please refer to https://aka.ms/debugimage#service-launch-fails for more information.\\\"\\n    },\\n    {\\n      \\\"code\\\": \\\"AciDeploymentFailed\\\",\\n      \\\"message\\\": \\\"Your container application crashed. Please follow the steps to debug:\\n\\t1. From the AML SDK, you can run print(service.get_logs()) if you have service object to fetch the logs. Please refer to https://aka.ms/debugimage#dockerlog for more information.\\n\\t2. If your container application crashed. This may be caused by errors in your scoring file's init() function. You can try debugging locally first. Please refer to https://aka.ms/debugimage#debug-locally for more information.\\n\\t3. You can also interactively debug your scoring file locally. Please refer to https://docs.microsoft.com/azure/machine-learning/how-to-debug-visual-studio-code#debug-and-troubleshoot-deployments for more information.\\n\\t4. View the diagnostic events to check status of container, it may help you to debug the issue.\\n\\\"RestartCount\\\": 3\\n\\\"CurrentState\\\": {\\\"state\\\":\\\"Waiting\\\",\\\"startTime\\\":null,\\\"exitCode\\\":null,\\\"finishTime\\\":null,\\\"detailStatus\\\":\\\"CrashLoopBackOff: Back-off restarting failed\\\"}\\n\\\"PreviousState\\\": {\\\"state\\\":\\\"Terminated\\\",\\\"startTime\\\":\\\"2021-12-07T17:52:34.814Z\\\",\\\"exitCode\\\":111,\\\"finishTime\\\":\\\"2021-12-07T17:52:43.131Z\\\",\\\"detailStatus\\\":\\\"Error\\\"}\\n\\\"Events\\\":\\n{\\\"count\\\":2,\\\"firstTimestamp\\\":\\\"2021-12-07T14:39:37Z\\\",\\\"lastTimestamp\\\":\\\"2021-12-07T17:29:43Z\\\",\\\"name\\\":\\\"Pulling\\\",\\\"message\\\":\\\"pulling image \\\"viennaglobal.azurecr.io/azureml/azureml_69581a78861b814a11058f72f478b9e0@sha256:0f323a58ca82f74cf8e2beb30f0b86fcd597f65994d1457f3748f58b4b3cbeb5\\\"\\\",\\\"type\\\":\\\"Normal\\\"}\\n{\\\"count\\\":2,\\\"firstTimestamp\\\":\\\"2021-12-07T14:40:25Z\\\",\\\"lastTimestamp\\\":\\\"2021-12-07T17:31:59Z\\\",\\\"name\\\":\\\"Pulled\\\",\\\"message\\\":\\\"Successfully pulled image \\\"viennaglobal.azurecr.io/azureml/azureml_69581a78861b814a11058f72f478b9e0@sha256:0f323a58ca82f74cf8e2beb30f0b86fcd597f65994d1457f3748f58b4b3cbeb5\\\"\\\",\\\"type\\\":\\\"Normal\\\"}\\n{\\\"count\\\":2,\\\"firstTimestamp\\\":\\\"2021-12-07T14:41:03Z\\\",\\\"lastTimestamp\\\":\\\"2021-12-07T17:33:38Z\\\",\\\"name\\\":\\\"Started\\\",\\\"message\\\":\\\"Started container\\\",\\\"type\\\":\\\"Normal\\\"}\\n{\\\"count\\\":2,\\\"firstTimestamp\\\":\\\"2021-12-07T14:42:36Z\\\",\\\"lastTimestamp\\\":\\\"2021-12-07T17:34:14Z\\\",\\\"name\\\":\\\"Killing\\\",\\\"message\\\":\\\"Killing container with id 1a4473c0d07320552677d084080195d4f0a52cf5b9672bd475d5db023a09a44c.\\\",\\\"type\\\":\\\"Normal\\\"}\\n{\\\"count\\\":2,\\\"firstTimestamp\\\":\\\"2021-12-07T14:59:52Z\\\",\\\"lastTimestamp\\\":\\\"2021-12-07T15:07:31Z\\\",\\\"name\\\":\\\"Pulling\\\",\\\"message\\\":\\\"pulling image \\\"viennaglobal.azurecr.io/azureml/azureml_69581a78861b814a11058f72f478b9e0@sha256:0f323a58ca82f74cf8e2beb30f0b86fcd597f65994d1457f3748f58b4b3cbeb5\\\"\\\",\\\"type\\\":\\\"Normal\\\"}\\n{\\\"count\\\":2,\\\"firstTimestamp\\\":\\\"2021-12-07T15:07:20Z\\\",\\\"lastTimestamp\\\":\\\"2021-12-07T15:07:31Z\\\",\\\"name\\\":\\\"Pulled\\\",\\\"message\\\":\\\"Successfully pulled image \\\"viennaglobal.azurecr.io/azureml/azureml_69581a78861b814a11058f72f478b9e0@sha256:0f323a58ca82f74cf8e2beb30f0b86fcd597f65994d1457f3748f58b4b3cbeb5\\\"\\\",\\\"type\\\":\\\"Normal\\\"}\\n{\\\"count\\\":1,\\\"firstTimestamp\\\":\\\"2021-12-07T15:10:36Z\\\",\\\"lastTimestamp\\\":\\\"2021-12-07T15:10:36Z\\\",\\\"name\\\":\\\"Started\\\",\\\"message\\\":\\\"Started container\\\",\\\"type\\\":\\\"Normal\\\"}\\n{\\\"count\\\":1,\\\"firstTimestamp\\\":\\\"2021-12-07T15:14:26Z\\\",\\\"lastTimestamp\\\":\\\"2021-12-07T15:14:26Z\\\",\\\"name\\\":\\\"Killing\\\",\\\"message\\\":\\\"Killing container with id e7a699b66a728848cbe29b39ac7b3ffae47a859d435b0d6380962c178c576613.\\\",\\\"type\\\":\\\"Normal\\\"}\\n\\\"\\n    }\\n  ]\\n}\"\n    }\n}"
          ]
        }
      ],
      "execution_count": 7,
      "metadata": {
        "jupyter": {
          "source_hidden": false,
          "outputs_hidden": false
        },
        "nteract": {
          "transient": {
            "deleting": false
          }
        },
        "gather": {
          "logged": 1638890162760
        }
      }
    },
    {
      "cell_type": "code",
      "source": [
        "model = joblib.load(model_path)"
      ],
      "outputs": [],
      "execution_count": null,
      "metadata": {
        "jupyter": {
          "source_hidden": false,
          "outputs_hidden": false
        },
        "nteract": {
          "transient": {
            "deleting": false
          }
        }
      }
    },
    {
      "cell_type": "code",
      "source": [
        "service"
      ],
      "outputs": [
        {
          "output_type": "execute_result",
          "execution_count": 148,
          "data": {
            "text/plain": "AciWebservice(workspace=Workspace.create(name='azure-machine-learning', subscription_id='29b64be4-867b-40ee-a259-b58b97bfc26f', resource_group='99-azure-machine-learning'), name=sklearn-diabetes, image_id=None, compute_type=None, state=ACI, scoring_uri=Healthy, tags=http://101c3820-712d-4913-b665-c4948751a509.westeurope.azurecontainer.io/score, properties=None, created_by={'hasInferenceSchema': 'False', 'hasHttps': 'False'})"
          },
          "metadata": {}
        }
      ],
      "execution_count": 148,
      "metadata": {
        "jupyter": {
          "source_hidden": false,
          "outputs_hidden": false
        },
        "nteract": {
          "transient": {
            "deleting": false
          }
        },
        "gather": {
          "logged": 1638897899604
        }
      }
    },
    {
      "cell_type": "code",
      "source": [
        "input_payload = json.dumps({\r\n",
        "    'data': [[0.01991321,  0.05068012,  0.10480869,  0.07007254, -0.03596778,-0.0266789 , -0.02499266, -0.00259226,  0.00371174,  0.04034337]]\r\n",
        "})"
      ],
      "outputs": [],
      "execution_count": 153,
      "metadata": {
        "jupyter": {
          "source_hidden": false,
          "outputs_hidden": false
        },
        "nteract": {
          "transient": {
            "deleting": false
          }
        },
        "gather": {
          "logged": 1638898019860
        }
      }
    },
    {
      "cell_type": "code",
      "source": [
        "service.run(input_payload)"
      ],
      "outputs": [
        {
          "output_type": "stream",
          "name": "stderr",
          "text": "Received bad response from service. More information can be found by calling `.get_logs()` on the webservice object.\nResponse Code: 502\nHeaders: {'Connection': 'keep-alive', 'Content-Length': '329', 'Content-Type': 'text/html; charset=utf-8', 'Date': 'Tue, 07 Dec 2021 17:27:02 GMT', 'Server': 'nginx/1.14.0 (Ubuntu)', 'X-Ms-Request-Id': 'bb5bae0c-2af0-4736-af20-bcbaad0a873e', 'X-Ms-Run-Function-Failed': 'True'}\nContent: b'Expected 2D array, got scalar array instead:\\narray={\"data\": [[0.01991321, 0.05068012, 0.10480869, 0.07007254, -0.03596778, -0.0266789, -0.02499266, -0.00259226, 0.00371174, 0.04034337]]}.\\nReshape your data either using array.reshape(-1, 1) if your data has a single feature or array.reshape(1, -1) if it contains a single sample.'\n\n"
        },
        {
          "output_type": "error",
          "ename": "WebserviceException",
          "evalue": "WebserviceException:\n\tMessage: Received bad response from service. More information can be found by calling `.get_logs()` on the webservice object.\nResponse Code: 502\nHeaders: {'Connection': 'keep-alive', 'Content-Length': '329', 'Content-Type': 'text/html; charset=utf-8', 'Date': 'Tue, 07 Dec 2021 17:27:02 GMT', 'Server': 'nginx/1.14.0 (Ubuntu)', 'X-Ms-Request-Id': 'bb5bae0c-2af0-4736-af20-bcbaad0a873e', 'X-Ms-Run-Function-Failed': 'True'}\nContent: b'Expected 2D array, got scalar array instead:\\narray={\"data\": [[0.01991321, 0.05068012, 0.10480869, 0.07007254, -0.03596778, -0.0266789, -0.02499266, -0.00259226, 0.00371174, 0.04034337]]}.\\nReshape your data either using array.reshape(-1, 1) if your data has a single feature or array.reshape(1, -1) if it contains a single sample.'\n\tInnerException None\n\tErrorResponse \n{\n    \"error\": {\n        \"message\": \"Received bad response from service. More information can be found by calling `.get_logs()` on the webservice object.\\nResponse Code: 502\\nHeaders: {'Connection': 'keep-alive', 'Content-Length': '329', 'Content-Type': 'text/html; charset=utf-8', 'Date': 'Tue, 07 Dec 2021 17:27:02 GMT', 'Server': 'nginx/1.14.0 (Ubuntu)', 'X-Ms-Request-Id': 'bb5bae0c-2af0-4736-af20-bcbaad0a873e', 'X-Ms-Run-Function-Failed': 'True'}\\nContent: b'Expected 2D array, got scalar array instead:\\\\narray={\\\"data\\\": [[0.01991321, 0.05068012, 0.10480869, 0.07007254, -0.03596778, -0.0266789, -0.02499266, -0.00259226, 0.00371174, 0.04034337]]}.\\\\nReshape your data either using array.reshape(-1, 1) if your data has a single feature or array.reshape(1, -1) if it contains a single sample.'\"\n    }\n}",
          "traceback": [
            "\u001b[0;31m---------------------------------------------------------------------------\u001b[0m",
            "\u001b[0;31mWebserviceException\u001b[0m                       Traceback (most recent call last)",
            "\u001b[0;32m<ipython-input-154-b6f375ab29b8>\u001b[0m in \u001b[0;36m<module>\u001b[0;34m\u001b[0m\n\u001b[0;32m----> 1\u001b[0;31m \u001b[0mservice\u001b[0m\u001b[0;34m.\u001b[0m\u001b[0mrun\u001b[0m\u001b[0;34m(\u001b[0m\u001b[0minput_payload\u001b[0m\u001b[0;34m)\u001b[0m\u001b[0;34m\u001b[0m\u001b[0;34m\u001b[0m\u001b[0m\n\u001b[0m",
            "\u001b[0;32m/anaconda/envs/azureml_py36/lib/python3.6/site-packages/azureml/core/webservice/aci.py\u001b[0m in \u001b[0;36mrun\u001b[0;34m(self, input_data)\u001b[0m\n\u001b[1;32m    403\u001b[0m                                       \u001b[0;34m'Headers: {}\\n'\u001b[0m\u001b[0;34m\u001b[0m\u001b[0;34m\u001b[0m\u001b[0m\n\u001b[1;32m    404\u001b[0m                                       \u001b[0;34m'Content: {}'\u001b[0m\u001b[0;34m.\u001b[0m\u001b[0mformat\u001b[0m\u001b[0;34m(\u001b[0m\u001b[0mresp\u001b[0m\u001b[0;34m.\u001b[0m\u001b[0mstatus_code\u001b[0m\u001b[0;34m,\u001b[0m \u001b[0mresp\u001b[0m\u001b[0;34m.\u001b[0m\u001b[0mheaders\u001b[0m\u001b[0;34m,\u001b[0m \u001b[0mresp\u001b[0m\u001b[0;34m.\u001b[0m\u001b[0mcontent\u001b[0m\u001b[0;34m)\u001b[0m\u001b[0;34m,\u001b[0m\u001b[0;34m\u001b[0m\u001b[0;34m\u001b[0m\u001b[0m\n\u001b[0;32m--> 405\u001b[0;31m                                       logger=module_logger)\n\u001b[0m\u001b[1;32m    406\u001b[0m \u001b[0;34m\u001b[0m\u001b[0m\n\u001b[1;32m    407\u001b[0m     def update(self, image=None, tags=None, properties=None, description=None, auth_enabled=None, ssl_enabled=None,\n",
            "\u001b[0;31mWebserviceException\u001b[0m: WebserviceException:\n\tMessage: Received bad response from service. More information can be found by calling `.get_logs()` on the webservice object.\nResponse Code: 502\nHeaders: {'Connection': 'keep-alive', 'Content-Length': '329', 'Content-Type': 'text/html; charset=utf-8', 'Date': 'Tue, 07 Dec 2021 17:27:02 GMT', 'Server': 'nginx/1.14.0 (Ubuntu)', 'X-Ms-Request-Id': 'bb5bae0c-2af0-4736-af20-bcbaad0a873e', 'X-Ms-Run-Function-Failed': 'True'}\nContent: b'Expected 2D array, got scalar array instead:\\narray={\"data\": [[0.01991321, 0.05068012, 0.10480869, 0.07007254, -0.03596778, -0.0266789, -0.02499266, -0.00259226, 0.00371174, 0.04034337]]}.\\nReshape your data either using array.reshape(-1, 1) if your data has a single feature or array.reshape(1, -1) if it contains a single sample.'\n\tInnerException None\n\tErrorResponse \n{\n    \"error\": {\n        \"message\": \"Received bad response from service. More information can be found by calling `.get_logs()` on the webservice object.\\nResponse Code: 502\\nHeaders: {'Connection': 'keep-alive', 'Content-Length': '329', 'Content-Type': 'text/html; charset=utf-8', 'Date': 'Tue, 07 Dec 2021 17:27:02 GMT', 'Server': 'nginx/1.14.0 (Ubuntu)', 'X-Ms-Request-Id': 'bb5bae0c-2af0-4736-af20-bcbaad0a873e', 'X-Ms-Run-Function-Failed': 'True'}\\nContent: b'Expected 2D array, got scalar array instead:\\\\narray={\\\"data\\\": [[0.01991321, 0.05068012, 0.10480869, 0.07007254, -0.03596778, -0.0266789, -0.02499266, -0.00259226, 0.00371174, 0.04034337]]}.\\\\nReshape your data either using array.reshape(-1, 1) if your data has a single feature or array.reshape(1, -1) if it contains a single sample.'\"\n    }\n}"
          ]
        }
      ],
      "execution_count": 154,
      "metadata": {
        "jupyter": {
          "source_hidden": false,
          "outputs_hidden": false
        },
        "nteract": {
          "transient": {
            "deleting": false
          }
        }
      }
    },
    {
      "cell_type": "code",
      "source": [],
      "outputs": [],
      "execution_count": null,
      "metadata": {
        "jupyter": {
          "source_hidden": false,
          "outputs_hidden": false
        },
        "nteract": {
          "transient": {
            "deleting": false
          }
        }
      }
    }
  ],
  "metadata": {
    "kernelspec": {
      "display_name": "Python 3.6 - AzureML",
      "language": "python",
      "name": "python3-azureml"
    },
    "language_info": {
      "codemirror_mode": {
        "name": "ipython",
        "version": 3
      },
      "file_extension": ".py",
      "mimetype": "text/x-python",
      "name": "python",
      "nbconvert_exporter": "python",
      "pygments_lexer": "ipython3",
      "version": "3.6.8"
    },
    "microsoft": {
      "host": {
        "AzureML": {
          "notebookHasBeenCompleted": true
        }
      }
    },
    "nteract": {
      "version": "nteract-front-end@1.0.0"
    }
  },
  "nbformat": 4,
  "nbformat_minor": 0
}