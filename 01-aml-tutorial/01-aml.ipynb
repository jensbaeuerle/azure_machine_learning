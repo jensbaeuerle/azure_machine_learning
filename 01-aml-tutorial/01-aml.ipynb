{
  "cells": [
    {
      "cell_type": "code",
      "source": [
        "from azureml.core import Workspace\r\n",
        "ws = Workspace.from_config()"
      ],
      "outputs": [],
      "execution_count": 33,
      "metadata": {
        "jupyter": {
          "source_hidden": false,
          "outputs_hidden": false
        },
        "nteract": {
          "transient": {
            "deleting": false
          }
        },
        "gather": {
          "logged": 1639045825454
        }
      }
    },
    {
      "cell_type": "code",
      "source": [
        "from azureml.core import Experiment\r\n",
        "experiment = Experiment(workspace=ws, name=\"diabetes_classification\")"
      ],
      "outputs": [],
      "execution_count": 34,
      "metadata": {
        "jupyter": {
          "source_hidden": false,
          "outputs_hidden": false
        },
        "nteract": {
          "transient": {
            "deleting": false
          }
        },
        "gather": {
          "logged": 1639045827837
        }
      }
    },
    {
      "cell_type": "code",
      "source": [
        "# azureml-core of version 1.0.72 or higher is required\r\n",
        "# azureml-dataprep[pandas] of version 1.1.34 or higher is required\r\n",
        "from azureml.core import Dataset\r\n",
        "\r\n",
        "dataset = Dataset.get_by_name(ws, name='diabetes_classification')\r\n",
        "df = dataset.to_pandas_dataframe()"
      ],
      "outputs": [],
      "execution_count": 35,
      "metadata": {
        "jupyter": {
          "source_hidden": false,
          "outputs_hidden": false
        },
        "nteract": {
          "transient": {
            "deleting": false
          }
        },
        "gather": {
          "logged": 1639045829244
        }
      }
    },
    {
      "cell_type": "code",
      "source": [
        "df.isna().sum()"
      ],
      "outputs": [
        {
          "output_type": "execute_result",
          "execution_count": 36,
          "data": {
            "text/plain": "p_id                     0\nno_times_pregnant        0\nglucose_concentration    0\nblood_pressure           0\nskin_fold_thickness      0\nserum_insulin            0\nbmi                      0\ndiabetes pedigree        0\nage                      0\ndiabetes                 0\ndtype: int64"
          },
          "metadata": {}
        }
      ],
      "execution_count": 36,
      "metadata": {
        "jupyter": {
          "source_hidden": false,
          "outputs_hidden": false
        },
        "nteract": {
          "transient": {
            "deleting": false
          }
        },
        "gather": {
          "logged": 1639045830239
        }
      }
    },
    {
      "cell_type": "code",
      "source": [
        "X = df.iloc[: , :-1]\r\n",
        "y = df.iloc[: , -1]"
      ],
      "outputs": [],
      "execution_count": 37,
      "metadata": {
        "jupyter": {
          "source_hidden": false,
          "outputs_hidden": false
        },
        "nteract": {
          "transient": {
            "deleting": false
          }
        },
        "gather": {
          "logged": 1639045831980
        }
      }
    },
    {
      "cell_type": "code",
      "source": [
        "from sklearn.model_selection import train_test_split\r\n",
        "\r\n",
        "X_train, X_test, y_train, y_test = train_test_split(X, y, test_size=0.2, random_state=66)"
      ],
      "outputs": [],
      "execution_count": 38,
      "metadata": {
        "jupyter": {
          "source_hidden": false,
          "outputs_hidden": false
        },
        "nteract": {
          "transient": {
            "deleting": false
          }
        },
        "gather": {
          "logged": 1639045832764
        }
      }
    },
    {
      "cell_type": "code",
      "source": [
        "from sklearn.linear_model import LogisticRegression\r\n",
        "from sklearn.metrics import classification_report, confusion_matrix\r\n",
        "\r\n",
        "lr=LogisticRegression()\r\n",
        "lr.fit(X_train, y_train)"
      ],
      "outputs": [
        {
          "output_type": "stream",
          "name": "stderr",
          "text": "/anaconda/envs/azureml_py36/lib/python3.6/site-packages/sklearn/linear_model/_logistic.py:940: ConvergenceWarning: lbfgs failed to converge (status=1):\nSTOP: TOTAL NO. of ITERATIONS REACHED LIMIT.\n\nIncrease the number of iterations (max_iter) or scale the data as shown in:\n    https://scikit-learn.org/stable/modules/preprocessing.html\nPlease also refer to the documentation for alternative solver options:\n    https://scikit-learn.org/stable/modules/linear_model.html#logistic-regression\n  extra_warning_msg=_LOGISTIC_SOLVER_CONVERGENCE_MSG)\n"
        },
        {
          "output_type": "execute_result",
          "execution_count": 39,
          "data": {
            "text/plain": "LogisticRegression(C=1.0, class_weight=None, dual=False, fit_intercept=True,\n                   intercept_scaling=1, l1_ratio=None, max_iter=100,\n                   multi_class='auto', n_jobs=None, penalty='l2',\n                   random_state=None, solver='lbfgs', tol=0.0001, verbose=0,\n                   warm_start=False)"
          },
          "metadata": {}
        }
      ],
      "execution_count": 39,
      "metadata": {
        "jupyter": {
          "source_hidden": false,
          "outputs_hidden": false
        },
        "nteract": {
          "transient": {
            "deleting": false
          }
        },
        "gather": {
          "logged": 1639045833895
        }
      }
    },
    {
      "cell_type": "code",
      "source": [
        "y_pred=lr.predict(X_train)"
      ],
      "outputs": [],
      "execution_count": 40,
      "metadata": {
        "jupyter": {
          "source_hidden": false,
          "outputs_hidden": false
        },
        "nteract": {
          "transient": {
            "deleting": false
          }
        },
        "gather": {
          "logged": 1639045835728
        }
      }
    },
    {
      "cell_type": "code",
      "source": [
        "from sklearn import metrics\r\n",
        "print(\"Accuracy Score:-\", metrics.accuracy_score(y_train, y_pred))\r\n",
        "print(\"F1 Score:-\", metrics.f1_score(y_train, y_pred))\r\n",
        "print(\"Average Precision Score:-\", metrics.average_precision_score(y_train, y_pred))\r\n",
        "print(\"Log Loss:-\", metrics.log_loss(y_train, y_pred))\r\n",
        "print(\"Precision Score:-\", metrics.precision_score(y_train, y_pred))\r\n",
        "print(\"Recall Score:-\", metrics.recall_score(y_train, y_pred))\r\n",
        "print(\"ROC-AUC Score:-\", metrics.roc_auc_score(y_train, y_pred))"
      ],
      "outputs": [
        {
          "output_type": "stream",
          "name": "stdout",
          "text": "Accuracy Score:- 0.7087576374745418\nF1 Score:- 0.4837545126353791\nAverage Precision Score:- 0.44803180160693246\nLog Loss:- 10.059224861836508\nPrecision Score:- 0.6090909090909091\nRecall Score:- 0.40119760479041916\nROC-AUC Score:- 0.6342407777038515\n"
        }
      ],
      "execution_count": 41,
      "metadata": {
        "jupyter": {
          "source_hidden": false,
          "outputs_hidden": false
        },
        "nteract": {
          "transient": {
            "deleting": false
          }
        },
        "gather": {
          "logged": 1639045836446
        }
      }
    },
    {
      "cell_type": "code",
      "source": [
        "import joblib\r\n",
        "import os\r\n",
        "model_file_name = 'diabetes_logistic_regression.pkl'\r\n",
        "\r\n",
        "# save model in the outputs folder so it automatically get uploaded\r\n",
        "with open(model_file_name, \"wb\") as file:\r\n",
        "    joblib.dump(value=lr, filename=os.path.join('./outputs/',\r\n",
        "                                                    model_file_name))"
      ],
      "outputs": [],
      "execution_count": 42,
      "metadata": {
        "jupyter": {
          "source_hidden": false,
          "outputs_hidden": false
        },
        "nteract": {
          "transient": {
            "deleting": false
          }
        },
        "gather": {
          "logged": 1639045838906
        }
      }
    },
    {
      "cell_type": "code",
      "source": [
        "from azureml.core.model import Model\r\n",
        "\r\n",
        "# Register model\r\n",
        "model = Model.register(ws, model_name=\"diabetes_logistic_regression\", model_path=\"./outputs/diabetes_logistic_regression.pkl\")"
      ],
      "outputs": [
        {
          "output_type": "stream",
          "name": "stdout",
          "text": "Registering model diabetes_logistic_regression\n"
        }
      ],
      "execution_count": 43,
      "metadata": {
        "jupyter": {
          "source_hidden": false,
          "outputs_hidden": false
        },
        "nteract": {
          "transient": {
            "deleting": false
          }
        },
        "gather": {
          "logged": 1639045842648
        }
      }
    },
    {
      "cell_type": "code",
      "source": [
        "%%writefile score.py\r\n",
        "import json\r\n",
        "import os\r\n",
        "import joblib\r\n",
        "import numpy as np\r\n",
        "\r\n",
        "# from inference_schema.schema_decorators import input_schema, output_schema\r\n",
        "# from inference_schema.parameter_types.numpy_parameter_type import NumpyParameterType\r\n",
        "\r\n",
        "def init():\r\n",
        "    print(\"This is init\")\r\n",
        "    global model\r\n",
        "\r\n",
        "    # The AZUREML_MODEL_DIR environment variable indicates\r\n",
        "    # a directory containing the model file you registered.\r\n",
        "    model_filename = 'diabetes_logistic_regression.pkl'\r\n",
        "    model_path = os.path.join(os.environ['AZUREML_MODEL_DIR'], model_filename)\r\n",
        "\r\n",
        "    model = joblib.load(model_path)\r\n",
        "\r\n",
        "\r\n",
        "\r\n",
        "# @input_schema('data', NumpyParameterType(np.array([[0.1, 1.2, 2.3, 3.4, 4.5, 5.6, 6.7, 7.8, 8.9, 9.0]])))\r\n",
        "# @output_schema(NumpyParameterType(np.array([4429.929236457418])))\r\n",
        "def run(data):\r\n",
        "    data = np.array(json.loads(data)['data'])\r\n",
        "    # Use the model object loaded by init().\r\n",
        "    result = model.predict(data)\r\n",
        "\r\n",
        "    # You can return any JSON-serializable object.\r\n",
        "    return result.tolist()"
      ],
      "outputs": [
        {
          "output_type": "stream",
          "name": "stdout",
          "text": "Overwriting score.py\n"
        }
      ],
      "execution_count": 44,
      "metadata": {
        "jupyter": {
          "source_hidden": false,
          "outputs_hidden": false
        },
        "nteract": {
          "transient": {
            "deleting": false
          }
        }
      }
    },
    {
      "cell_type": "code",
      "source": [
        "%%writefile score.py\r\n",
        "import json\r\n",
        "import os\r\n",
        "import joblib\r\n",
        "\r\n",
        "def init():\r\n",
        "    global model\r\n",
        "    print(\"This is init\")\r\n",
        "    model_filename = 'diabetes_logistic_regression.pkl'\r\n",
        "    model_path = os.path.join(os.environ['AZUREML_MODEL_DIR'], model_filename)\r\n",
        "\r\n",
        "    model = joblib.load(model_path)\r\n",
        "\r\n",
        "\r\n",
        "def run(data):\r\n",
        "    test = json.loads(data)\r\n",
        "    result = model.predict(test)\r\n",
        "    print(f\"received data {test}\")\r\n",
        "    # return \"raw: {}, json.loads: {}, result: {}\".format(data, test, result)\r\n",
        "    return result.tolist()"
      ],
      "outputs": [
        {
          "output_type": "stream",
          "name": "stdout",
          "text": "Overwriting score.py\n"
        }
      ],
      "execution_count": 31,
      "metadata": {
        "jupyter": {
          "source_hidden": false,
          "outputs_hidden": false
        },
        "nteract": {
          "transient": {
            "deleting": false
          }
        }
      }
    },
    {
      "cell_type": "code",
      "source": [
        "from azureml.core import Environment\r\n",
        "from azureml.core.model import InferenceConfig\r\n",
        "\r\n",
        "env = Environment(name=\"AzureML-sklearn-0.24-ubuntu18.04-py37-cpu\")\r\n",
        "inference_config = InferenceConfig(\r\n",
        "    environment=env,\r\n",
        "    entry_script=\"score.py\",\r\n",
        ")"
      ],
      "outputs": [],
      "execution_count": 45,
      "metadata": {
        "jupyter": {
          "source_hidden": false,
          "outputs_hidden": false
        },
        "nteract": {
          "transient": {
            "deleting": false
          }
        },
        "gather": {
          "logged": 1639045879668
        }
      }
    },
    {
      "cell_type": "code",
      "source": [
        "from azureml.core.webservice import AciWebservice\r\n",
        "\r\n",
        "deployment_config = AciWebservice.deploy_configuration(\r\n",
        "    cpu_cores=0.5, memory_gb=1, auth_enabled=True\r\n",
        ")"
      ],
      "outputs": [],
      "execution_count": 46,
      "metadata": {
        "jupyter": {
          "source_hidden": false,
          "outputs_hidden": false
        },
        "nteract": {
          "transient": {
            "deleting": false
          }
        },
        "gather": {
          "logged": 1639045880806
        }
      }
    },
    {
      "cell_type": "code",
      "source": [
        "service = Model.deploy(\r\n",
        "    ws,\r\n",
        "    \"diabetes-logistic-regression\",\r\n",
        "    [model],\r\n",
        "    inference_config,\r\n",
        "    deployment_config,\r\n",
        "    overwrite=True,\r\n",
        ")\r\n",
        "service.wait_for_deployment(show_output=True)"
      ],
      "outputs": [
        {
          "output_type": "stream",
          "name": "stdout",
          "text": "Tips: You can try get_logs(): https://aka.ms/debugimage#dockerlog or local deployment: https://aka.ms/debugimage#debug-locally to debug if deployment takes longer than 10 minutes.\nRunning\n2021-12-09 10:31:23+00:00 Creating Container Registry if not exists.\n2021-12-09 10:31:23+00:00 Registering the environment.\n2021-12-09 10:31:24+00:00 Use the existing image.\n2021-12-09 10:31:24+00:00 Generating deployment configuration.\n2021-12-09 10:31:25+00:00 Submitting deployment to compute.\n2021-12-09 10:31:28+00:00 Checking the status of deployment diabetes-logistic-regression."
        }
      ],
      "execution_count": 47,
      "metadata": {
        "jupyter": {
          "source_hidden": false,
          "outputs_hidden": false
        },
        "nteract": {
          "transient": {
            "deleting": false
          }
        },
        "gather": {
          "logged": 1639046073050
        }
      }
    },
    {
      "cell_type": "markdown",
      "source": [
        "-----------------------------------------------------------------------------------\r\n",
        "**### Eperimentation**"
      ],
      "metadata": {
        "nteract": {
          "transient": {
            "deleting": false
          }
        }
      }
    },
    {
      "cell_type": "code",
      "source": [
        "import json\r\n",
        "input_payload = json.dumps({\r\n",
        "    'data': X_test[0:2].values.tolist()\r\n",
        "})\r\n",
        "\r\n",
        "output = service.run(json.dumps({\"data\" : [[288, 1, 119, 86, 39, 220, 45.6, 0.808, 29]]}))\r\n",
        "\r\n",
        "print(output)"
      ],
      "outputs": [
        {
          "output_type": "stream",
          "name": "stderr",
          "text": "Received bad response from service. More information can be found by calling `.get_logs()` on the webservice object.\nResponse Code: 502\nHeaders: {'Connection': 'keep-alive', 'Content-Length': '249', 'Content-Type': 'text/html; charset=utf-8', 'Date': 'Wed, 08 Dec 2021 19:42:11 GMT', 'Server': 'nginx/1.14.0 (Ubuntu)', 'X-Ms-Request-Id': '4e6046f8-6e7e-4c86-a88f-c2d01db025a5', 'X-Ms-Run-Function-Failed': 'True'}\nContent: b'Expected 2D array, got scalar array instead:\\narray={\"data\": [[288, 1, 119, 86, 39, 220, 45.6, 0.808, 29]]}.\\nReshape your data either using array.reshape(-1, 1) if your data has a single feature or array.reshape(1, -1) if it contains a single sample.'\n\n"
        },
        {
          "output_type": "error",
          "ename": "WebserviceException",
          "evalue": "WebserviceException:\n\tMessage: Received bad response from service. More information can be found by calling `.get_logs()` on the webservice object.\nResponse Code: 502\nHeaders: {'Connection': 'keep-alive', 'Content-Length': '249', 'Content-Type': 'text/html; charset=utf-8', 'Date': 'Wed, 08 Dec 2021 19:42:11 GMT', 'Server': 'nginx/1.14.0 (Ubuntu)', 'X-Ms-Request-Id': '4e6046f8-6e7e-4c86-a88f-c2d01db025a5', 'X-Ms-Run-Function-Failed': 'True'}\nContent: b'Expected 2D array, got scalar array instead:\\narray={\"data\": [[288, 1, 119, 86, 39, 220, 45.6, 0.808, 29]]}.\\nReshape your data either using array.reshape(-1, 1) if your data has a single feature or array.reshape(1, -1) if it contains a single sample.'\n\tInnerException None\n\tErrorResponse \n{\n    \"error\": {\n        \"message\": \"Received bad response from service. More information can be found by calling `.get_logs()` on the webservice object.\\nResponse Code: 502\\nHeaders: {'Connection': 'keep-alive', 'Content-Length': '249', 'Content-Type': 'text/html; charset=utf-8', 'Date': 'Wed, 08 Dec 2021 19:42:11 GMT', 'Server': 'nginx/1.14.0 (Ubuntu)', 'X-Ms-Request-Id': '4e6046f8-6e7e-4c86-a88f-c2d01db025a5', 'X-Ms-Run-Function-Failed': 'True'}\\nContent: b'Expected 2D array, got scalar array instead:\\\\narray={\\\"data\\\": [[288, 1, 119, 86, 39, 220, 45.6, 0.808, 29]]}.\\\\nReshape your data either using array.reshape(-1, 1) if your data has a single feature or array.reshape(1, -1) if it contains a single sample.'\"\n    }\n}",
          "traceback": [
            "\u001b[0;31m---------------------------------------------------------------------------\u001b[0m",
            "\u001b[0;31mWebserviceException\u001b[0m                       Traceback (most recent call last)",
            "\u001b[0;32m<ipython-input-24-cf08d43c3aab>\u001b[0m in \u001b[0;36m<module>\u001b[0;34m\u001b[0m\n\u001b[1;32m      4\u001b[0m })\n\u001b[1;32m      5\u001b[0m \u001b[0;34m\u001b[0m\u001b[0m\n\u001b[0;32m----> 6\u001b[0;31m \u001b[0moutput\u001b[0m \u001b[0;34m=\u001b[0m \u001b[0mservice\u001b[0m\u001b[0;34m.\u001b[0m\u001b[0mrun\u001b[0m\u001b[0;34m(\u001b[0m\u001b[0mjson\u001b[0m\u001b[0;34m.\u001b[0m\u001b[0mdumps\u001b[0m\u001b[0;34m(\u001b[0m\u001b[0;34m{\u001b[0m\u001b[0;34m\"data\"\u001b[0m \u001b[0;34m:\u001b[0m \u001b[0;34m[\u001b[0m\u001b[0;34m[\u001b[0m\u001b[0;36m288\u001b[0m\u001b[0;34m,\u001b[0m \u001b[0;36m1\u001b[0m\u001b[0;34m,\u001b[0m \u001b[0;36m119\u001b[0m\u001b[0;34m,\u001b[0m \u001b[0;36m86\u001b[0m\u001b[0;34m,\u001b[0m \u001b[0;36m39\u001b[0m\u001b[0;34m,\u001b[0m \u001b[0;36m220\u001b[0m\u001b[0;34m,\u001b[0m \u001b[0;36m45.6\u001b[0m\u001b[0;34m,\u001b[0m \u001b[0;36m0.808\u001b[0m\u001b[0;34m,\u001b[0m \u001b[0;36m29\u001b[0m\u001b[0;34m]\u001b[0m\u001b[0;34m]\u001b[0m\u001b[0;34m}\u001b[0m\u001b[0;34m)\u001b[0m\u001b[0;34m)\u001b[0m\u001b[0;34m\u001b[0m\u001b[0;34m\u001b[0m\u001b[0m\n\u001b[0m\u001b[1;32m      7\u001b[0m \u001b[0;34m\u001b[0m\u001b[0m\n\u001b[1;32m      8\u001b[0m \u001b[0mprint\u001b[0m\u001b[0;34m(\u001b[0m\u001b[0moutput\u001b[0m\u001b[0;34m)\u001b[0m\u001b[0;34m\u001b[0m\u001b[0;34m\u001b[0m\u001b[0m\n",
            "\u001b[0;32m/anaconda/envs/azureml_py36/lib/python3.6/site-packages/azureml/core/webservice/aci.py\u001b[0m in \u001b[0;36mrun\u001b[0;34m(self, input_data)\u001b[0m\n\u001b[1;32m    403\u001b[0m                                       \u001b[0;34m'Headers: {}\\n'\u001b[0m\u001b[0;34m\u001b[0m\u001b[0;34m\u001b[0m\u001b[0m\n\u001b[1;32m    404\u001b[0m                                       \u001b[0;34m'Content: {}'\u001b[0m\u001b[0;34m.\u001b[0m\u001b[0mformat\u001b[0m\u001b[0;34m(\u001b[0m\u001b[0mresp\u001b[0m\u001b[0;34m.\u001b[0m\u001b[0mstatus_code\u001b[0m\u001b[0;34m,\u001b[0m \u001b[0mresp\u001b[0m\u001b[0;34m.\u001b[0m\u001b[0mheaders\u001b[0m\u001b[0;34m,\u001b[0m \u001b[0mresp\u001b[0m\u001b[0;34m.\u001b[0m\u001b[0mcontent\u001b[0m\u001b[0;34m)\u001b[0m\u001b[0;34m,\u001b[0m\u001b[0;34m\u001b[0m\u001b[0;34m\u001b[0m\u001b[0m\n\u001b[0;32m--> 405\u001b[0;31m                                       logger=module_logger)\n\u001b[0m\u001b[1;32m    406\u001b[0m \u001b[0;34m\u001b[0m\u001b[0m\n\u001b[1;32m    407\u001b[0m     def update(self, image=None, tags=None, properties=None, description=None, auth_enabled=None, ssl_enabled=None,\n",
            "\u001b[0;31mWebserviceException\u001b[0m: WebserviceException:\n\tMessage: Received bad response from service. More information can be found by calling `.get_logs()` on the webservice object.\nResponse Code: 502\nHeaders: {'Connection': 'keep-alive', 'Content-Length': '249', 'Content-Type': 'text/html; charset=utf-8', 'Date': 'Wed, 08 Dec 2021 19:42:11 GMT', 'Server': 'nginx/1.14.0 (Ubuntu)', 'X-Ms-Request-Id': '4e6046f8-6e7e-4c86-a88f-c2d01db025a5', 'X-Ms-Run-Function-Failed': 'True'}\nContent: b'Expected 2D array, got scalar array instead:\\narray={\"data\": [[288, 1, 119, 86, 39, 220, 45.6, 0.808, 29]]}.\\nReshape your data either using array.reshape(-1, 1) if your data has a single feature or array.reshape(1, -1) if it contains a single sample.'\n\tInnerException None\n\tErrorResponse \n{\n    \"error\": {\n        \"message\": \"Received bad response from service. More information can be found by calling `.get_logs()` on the webservice object.\\nResponse Code: 502\\nHeaders: {'Connection': 'keep-alive', 'Content-Length': '249', 'Content-Type': 'text/html; charset=utf-8', 'Date': 'Wed, 08 Dec 2021 19:42:11 GMT', 'Server': 'nginx/1.14.0 (Ubuntu)', 'X-Ms-Request-Id': '4e6046f8-6e7e-4c86-a88f-c2d01db025a5', 'X-Ms-Run-Function-Failed': 'True'}\\nContent: b'Expected 2D array, got scalar array instead:\\\\narray={\\\"data\\\": [[288, 1, 119, 86, 39, 220, 45.6, 0.808, 29]]}.\\\\nReshape your data either using array.reshape(-1, 1) if your data has a single feature or array.reshape(1, -1) if it contains a single sample.'\"\n    }\n}"
          ]
        }
      ],
      "execution_count": 24,
      "metadata": {
        "jupyter": {
          "source_hidden": false,
          "outputs_hidden": false
        },
        "nteract": {
          "transient": {
            "deleting": false
          }
        }
      }
    },
    {
      "cell_type": "code",
      "source": [],
      "outputs": [],
      "execution_count": null,
      "metadata": {
        "jupyter": {
          "source_hidden": false,
          "outputs_hidden": false
        },
        "nteract": {
          "transient": {
            "deleting": false
          }
        }
      }
    }
  ],
  "metadata": {
    "kernelspec": {
      "name": "python3-azureml",
      "language": "python",
      "display_name": "Python 3.6 - AzureML"
    },
    "language_info": {
      "name": "python",
      "version": "3.6.9",
      "mimetype": "text/x-python",
      "codemirror_mode": {
        "name": "ipython",
        "version": 3
      },
      "pygments_lexer": "ipython3",
      "nbconvert_exporter": "python",
      "file_extension": ".py"
    },
    "microsoft": {
      "host": {
        "AzureML": {
          "notebookHasBeenCompleted": true
        }
      }
    },
    "nteract": {
      "version": "nteract-front-end@1.0.0"
    },
    "kernel_info": {
      "name": "python3-azureml"
    }
  },
  "nbformat": 4,
  "nbformat_minor": 0
}